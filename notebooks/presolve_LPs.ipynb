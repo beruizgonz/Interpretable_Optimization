{
 "cells": [
  {
   "cell_type": "markdown",
   "id": "0ce8e7a5-f5cc-45b1-9bc0-d9efe47f1c23",
   "metadata": {},
   "source": [
    "<span style=\"font-family: Arial; font-weight:bold;font-size:2em;color:#0ab6fa\">Presolve Reductions for LPs with Gurobi"
   ]
  },
  {
   "cell_type": "markdown",
   "id": "9165e982-2fab-47cc-9a28-25ce18e17e7c",
   "metadata": {},
   "source": [
    "**Phillipe Vilaça Gomes** <br>\n",
    "**Institute for Research in Technology IIT, Comillas Pontifical University** <br>\n",
    "**Madrid, Spain, 2024.** <br>\n",
    "- Phillipe Vilaça, phillipe.v@comillas.edu"
   ]
  },
  {
   "cell_type": "markdown",
   "id": "487fef10-b55d-4e64-9cbe-141f492a516a",
   "metadata": {},
   "source": [
    "**Note**: <br>\n",
    "This educational material on \"Presolve Reductions for LPs with Gurobi\" is derived from the \"Interpretable Optimization\" project. This project was conducted by: <br>\n",
    "- Dra Sara Lumbreras (https://www.iit.comillas.edu/personas/slumbreras);\n",
    "- Dr Javier García González (https://www.iit.comillas.edu/personas/javiergg); and \n",
    "- Dr Phillipe Vilaça Gomes (https://www.iit.comillas.edu/personas/phillipe.v)."
   ]
  },
  {
   "cell_type": "markdown",
   "id": "e66a7eec-3c78-405e-8a1b-0a3477c42809",
   "metadata": {},
   "source": [
    "**Prerequisite Knowledge Notice:** <br>\n",
    "This educational material on \"Hands-on Linear Programming with Gurobi\" is designed for students who possess at least an intermediate level of understanding in key areas of Linear Programming (LP). Before delving into this content, it is recommended that students are familiar with the following concepts:\n",
    "\n",
    "- **LP Formulation:** Understanding the basic mathematical formulation of linear programming problems.\n",
    "- **LP Feasible Region and Optimality:** Knowledge of what constitutes a feasible region in LP and how optimality is determined within this context.\n",
    "- **LP Sensitivity Analysis:** Insight into how changes in the parameters of a linear program affect its solution.\n",
    "- **LP Duality:** A grasp of the principles of duality in linear programming, including the ability to understand and interpret dual problems.\n",
    "\n",
    "This foundational knowledge is crucial for a comprehensive understanding of the material presented, as it builds upon these core concepts, particularly in the application of the Gurobi solver for LP problems."
   ]
  },
  {
   "cell_type": "markdown",
   "id": "3e2d3127-0cf1-4e18-9bc4-bb47fdd1ef34",
   "metadata": {},
   "source": [
    "## Table of Content\n",
    "**[1. Presolve](#M1)** <br>\n",
    "**[2. Eliminate Zero Rows​](#M2)** <br>\n",
    "&nbsp;&nbsp;**[2.1 Theorem](#M2.1)** <br>\n",
    "&nbsp;&nbsp;**[2.2 Modelling](#M2.2)** <br>\n",
    "&nbsp;&nbsp;**[2.3 Implementation](#M2.3)** <br>\n",
    "**[3. Eliminate Zero Rows​](#M3)** <br>\n",
    "&nbsp;&nbsp;**[3.1 Theorem](#M3.1)** <br>\n",
    "&nbsp;&nbsp;**[3.2 Modelling](#M3.2)** <br>\n",
    "&nbsp;&nbsp;**[3.3 Implementation](#M3.3)** <br>\n",
    "**[4. Eliminate Singleton Equality Constraints​](#M3)** <br>\n",
    "&nbsp;&nbsp;**[4.1 Theorem](#M4.1)** <br>\n",
    "&nbsp;&nbsp;**[4.2 Modelling](#M4.2)** <br>\n",
    "&nbsp;&nbsp;**[4.3 Implementation](#M4.3)** <br>\n",
    "**[4. Eliminate kton Equality Constraints](#M4)** <br>\n",
    "**[5. Eliminate Singleton Inequality Constraints](#M5)** <br>\n",
    "**[6. Eliminate Dual Singleton Inequality Constraints ](#M6)** <br>\n",
    "**[7. Eliminate Implied Free Singleton Columns](#M7)** <br>\n",
    "**[8. Eliminate Redundant Columns​](#M8)** <br>\n",
    "**[9. Eliminate Implied Bounds on Rows ​](#M9)** <br>\n",
    "**[10. Eliminate Redundant Rows​](#M10)** <br>\n",
    "**[11. Make Coefficient Matrix Structurally Full Rank](#M11)** <br>"
   ]
  },
  {
   "cell_type": "markdown",
   "id": "4bec47de-d9ea-4a55-8163-c652b3b8ff71",
   "metadata": {},
   "source": [
    "<a id=\"M1\"> </a>\n",
    "<span style=\"font-family: Arial; font-weight:bold;font-size:1.8em;color:#6E1B1B\">1. Presolve"
   ]
  },
  {
   "cell_type": "markdown",
   "id": "52ad884a-0dd8-4e21-ba1b-8b183863f231",
   "metadata": {},
   "source": [
    "\"Presolve Reductions in Mixed Integer Programming\", Achterberg, et al, 2016.\n",
    "- Presolve is a set of routines that remove redundant information and strengthen a given model formulation with the aim of accelerating the subsequent solution process.\n",
    "- Presolve can be very effective; indeed, in some cases it is the difference between a problem being intractable and solvable."
   ]
  },
  {
   "cell_type": "markdown",
   "id": "973ca9bd-5a44-49dc-bc80-9c1372654fb2",
   "metadata": {},
   "source": [
    "**Importing some libraries**"
   ]
  },
  {
   "cell_type": "code",
   "execution_count": 263,
   "id": "d4022516-92dd-4987-92e1-26a32c7a858f",
   "metadata": {},
   "outputs": [],
   "source": [
    "import gurobipy as gp\n",
    "from gurobipy import GRB\n",
    "import os\n",
    "import numpy as np\n",
    "import warnings\n",
    "\n",
    "# Suppress DeprecationWarning\n",
    "warnings.filterwarnings('ignore', category=DeprecationWarning)"
   ]
  },
  {
   "cell_type": "markdown",
   "id": "16554361-ff90-47e2-8926-a5cda816ebbf",
   "metadata": {},
   "source": [
    "**Initial Model**"
   ]
  },
  {
   "cell_type": "code",
   "execution_count": 264,
   "id": "b9319caf-69c5-4ecb-bb8c-6e1c0355f068",
   "metadata": {},
   "outputs": [
    {
     "data": {
      "text/plain": [
       "<gurobi.Constr *Awaiting Model Update*>"
      ]
     },
     "execution_count": 264,
     "metadata": {},
     "output_type": "execute_result"
    }
   ],
   "source": [
    "# Define the model\n",
    "model = gp.Model(\"FactoryOptimization\")\n",
    "\n",
    "# Add Decision Variables\n",
    "x1 = model.addVar(vtype=GRB.CONTINUOUS, name=\"x1\", lb=0)\n",
    "x2 = model.addVar(vtype=GRB.CONTINUOUS, name=\"x2\", lb=0)\n",
    "\n",
    "# Set the Objective Function\n",
    "model.setObjective(50 * x1 + 40 * x2, GRB.MAXIMIZE)\n",
    "\n",
    "# Machine 1 time constraint\n",
    "model.addConstr(x1 + 0.5 * x2 <= 12, \"Machine1\")\n",
    "\n",
    "# Machine 2 time constraint\n",
    "model.addConstr(0.5 * x1 + x2 <= 10, \"Machine2\")\n",
    "\n",
    "# Market demand constraints\n",
    "model.addConstr(x1 <= 20, \"DemandA\")\n",
    "model.addConstr(x2 <= 25, \"DemandB\")"
   ]
  },
  {
   "cell_type": "code",
   "execution_count": 265,
   "id": "85a5d252-4ce1-40f3-b597-27718548a525",
   "metadata": {},
   "outputs": [
    {
     "name": "stdout",
     "output_type": "stream",
     "text": [
      "Maximize\n",
      "  50.0 x1 + 40.0 x2\n",
      "Subject To\n",
      "  Machine1: x1 + 0.5 x2 <= 12\n",
      "  Machine2: 0.5 x1 + x2 <= 10\n",
      "  DemandA: x1 <= 20\n",
      "  DemandB: x2 <= 25\n"
     ]
    }
   ],
   "source": [
    "# print the model (build from mps file)\n",
    "model.update()\n",
    "model.display()"
   ]
  },
  {
   "cell_type": "code",
   "execution_count": 266,
   "id": "d6e0cbb8-1da1-4087-b456-d369281eb221",
   "metadata": {},
   "outputs": [
    {
     "name": "stdout",
     "output_type": "stream",
     "text": [
      "Gurobi Optimizer version 11.0.0 build v11.0.0rc2 (win64 - Windows 11+.0 (22631.2))\n",
      "\n",
      "CPU model: 11th Gen Intel(R) Core(TM) i7-1185G7 @ 3.00GHz, instruction set [SSE2|AVX|AVX2|AVX512]\n",
      "Thread count: 4 physical cores, 8 logical processors, using up to 8 threads\n",
      "\n",
      "Optimize a model with 4 rows, 2 columns and 6 nonzeros\n",
      "Model fingerprint: 0xbeafecd7\n",
      "Coefficient statistics:\n",
      "  Matrix range     [5e-01, 1e+00]\n",
      "  Objective range  [4e+01, 5e+01]\n",
      "  Bounds range     [0e+00, 0e+00]\n",
      "  RHS range        [1e+01, 3e+01]\n",
      "Presolve removed 2 rows and 0 columns\n",
      "Presolve time: 0.01s\n",
      "Presolved: 2 rows, 2 columns, 4 nonzeros\n",
      "\n",
      "Iteration    Objective       Primal Inf.    Dual Inf.      Time\n",
      "       0    9.6000000e+02   1.399450e+01   0.000000e+00      0s\n",
      "       2    6.8000000e+02   0.000000e+00   0.000000e+00      0s\n",
      "\n",
      "Solved in 2 iterations and 0.01 seconds (0.00 work units)\n",
      "Optimal objective  6.800000000e+02\n"
     ]
    }
   ],
   "source": [
    "# Solve the Model\n",
    "model.optimize()"
   ]
  },
  {
   "cell_type": "code",
   "execution_count": 267,
   "id": "819f8d46-7563-407e-9e0d-f657bf51bfb8",
   "metadata": {},
   "outputs": [
    {
     "name": "stdout",
     "output_type": "stream",
     "text": [
      "Optimal number of Product A to produce: 9.333333333333334\n",
      "Optimal number of Product B to produce: 5.333333333333333\n",
      "Maximum Profit: $680.0\n"
     ]
    }
   ],
   "source": [
    "# Print the solution\n",
    "if model.status == GRB.OPTIMAL:\n",
    "    print(f\"Optimal number of Product A to produce: {x1.X}\")\n",
    "    print(f\"Optimal number of Product B to produce: {x2.X}\")\n",
    "    print(f\"Maximum Profit: ${model.ObjVal}\")"
   ]
  },
  {
   "cell_type": "markdown",
   "id": "a8373bcc-2719-49a1-9bc9-8bba969db42f",
   "metadata": {},
   "source": [
    "<a id=\"M2\"> </a>\n",
    "<span style=\"font-family: Arial; font-weight:bold;font-size:1.8em;color:#6E1B1B\">2. Eliminate Zero Rows​"
   ]
  },
  {
   "cell_type": "markdown",
   "id": "e9125698-5023-4814-a4e8-ca6439203fd9",
   "metadata": {},
   "source": [
    "<a id=\"M2.1\"> </a>\n",
    "<span style=\"font-family: Arial; font-weight:bold;font-size:1.0em;color:#6E1B1B\">2.1 Theorem "
   ]
  },
  {
   "cell_type": "markdown",
   "id": "4d773f8f-33df-432b-892e-b77b875b6cfb",
   "metadata": {},
   "source": [
    "In linear programming, a row of the coefficient matrix A is considered an empty row if all the coefficients in that row are equal to zero. \n",
    "Such a zero row can be formulated as follows:\n",
    "\n",
    "$ A_{i1}*x_1 + A_{i2}*x_2 + ... + A_{in}*x_n \\; o_i \\; b_i $\n",
    "\n",
    "Where:\n",
    "- $o_i$ represents the i-th operation, belonging to the set {<=, =, >=}.\n",
    "- $A_{ij} = 0$ for all i = 1, 2, ..., m, and j = 1, 2, ..., n.\n",
    "\n",
    "A constraint of this type may either be redundant or may indicate that the LP problem is infeasible. \n",
    "This distinction is made clear in the following theorem, considering all possible cases where $A_{i.}$ is an empty row:\n",
    "\n",
    "- Case 1: if $o_i$ is \"<=\" and $b_i >= 0$, the constraint is redundant.\n",
    "- Case 2: if $o_i$ is \"<=\" and $b_i < 0$, the constraint is infeasible.\n",
    "- Case 3: if $o_i$ is \" >=\" and $b_i <= 0$, the constraint is redundant.\n",
    "- Case 4: if $o_i$ is \" >=\" and $b_i > 0$, the constraint is infeasible.\n",
    "- Case 5: if $o_i$ is \" =\" and $b_i = 0$, the constraint is redundant.\n",
    "- Case 6: if $o_i$ is \" =\" and $b_i \\neq 0$, the constraint is infeasible."
   ]
  },
  {
   "cell_type": "markdown",
   "id": "87698409-542a-4517-9659-3c8ce1db3cfe",
   "metadata": {},
   "source": [
    "<a id=\"M2.2\"> </a>\n",
    "<span style=\"font-family: Arial; font-weight:bold;font-size:1.0em;color:#6E1B1B\">2.2 Modelling "
   ]
  },
  {
   "cell_type": "code",
   "execution_count": 255,
   "id": "9e6e7213-b47f-44b6-991d-0b3b29780e1b",
   "metadata": {},
   "outputs": [
    {
     "data": {
      "text/plain": [
       "<gurobi.Constr *Awaiting Model Update*>"
      ]
     },
     "execution_count": 255,
     "metadata": {},
     "output_type": "execute_result"
    }
   ],
   "source": [
    "# add these constraints to the problem\n",
    "model.addConstr(0 * x1 + 0* x2 <= 10, \"zero_rows_case_1\")\n",
    "model.addConstr(0 * x1 + 0* x2 <= -10, \"zero_rows_case_2\")\n",
    "model.addConstr(0 * x1 + 0* x2 >= -10, \"zero_rows_case_3\")\n",
    "model.addConstr(0 * x1 + 0* x2 >= 10, \"zero_rows_case_4\")\n",
    "model.addConstr(0 * x1 + 0* x2 == 0, \"zero_rows_case_5\")\n",
    "model.addConstr(0 * x1 + 0* x2 == 10, \"zero_rows_case_6\")"
   ]
  },
  {
   "cell_type": "code",
   "execution_count": 256,
   "id": "c4f2f24b-a525-4b35-9bc7-34978bee0d5c",
   "metadata": {},
   "outputs": [],
   "source": [
    "#updating the model\n",
    "model.update()"
   ]
  },
  {
   "cell_type": "code",
   "execution_count": 257,
   "id": "1addc4e4-c166-4de5-a46e-cc1138715d43",
   "metadata": {},
   "outputs": [
    {
     "name": "stdout",
     "output_type": "stream",
     "text": [
      "Maximize\n",
      "  50.0 x1 + 40.0 x2\n",
      "Subject To\n",
      "  Machine1: x1 + 0.5 x2 <= 12\n",
      "  Machine2: 0.5 x1 + x2 <= 10\n",
      "  DemandA: x1 <= 20\n",
      "  DemandB: x2 <= 25\n",
      "  zero_rows_case_1: 0.0 <= 10\n",
      "  zero_rows_case_2: 0.0 <= -10\n",
      "  zero_rows_case_3: 0.0 >= -10\n",
      "  zero_rows_case_4: 0.0 >= 10\n",
      "  zero_rows_case_5: 0.0 = 0\n",
      "  zero_rows_case_6: 0.0 = 10\n"
     ]
    }
   ],
   "source": [
    "# print the model (build from mps file)\n",
    "model.display()"
   ]
  },
  {
   "cell_type": "code",
   "execution_count": 258,
   "id": "facef8ee-678d-4485-b7c3-4c0049e0d3d9",
   "metadata": {},
   "outputs": [
    {
     "name": "stdout",
     "output_type": "stream",
     "text": [
      "[[1.  0.5]\n",
      " [0.5 1. ]\n",
      " [1.  0. ]\n",
      " [0.  1. ]\n",
      " [0.  0. ]\n",
      " [0.  0. ]\n",
      " [0.  0. ]\n",
      " [0.  0. ]\n",
      " [0.  0. ]\n",
      " [0.  0. ]]\n"
     ]
    }
   ],
   "source": [
    "# Access constraint matrix A\n",
    "A = model.getA()\n",
    "print(A.A)"
   ]
  },
  {
   "cell_type": "markdown",
   "id": "b588edbe-8435-43f1-b8c3-68c9506f8552",
   "metadata": {},
   "source": [
    "<a id=\"M2.3\"> </a>\n",
    "<span style=\"font-family: Arial; font-weight:bold;font-size:1.0em;color:#6E1B1B\">2.3 Implementation"
   ]
  },
  {
   "cell_type": "code",
   "execution_count": 261,
   "id": "4c1b0312-4733-4dbb-a2f6-2361f37306b5",
   "metadata": {},
   "outputs": [],
   "source": [
    "def eliminate_zero_rows(model):\n",
    "    \"\"\"\n",
    "    Eliminate zero rows from a Gurobi optimization model.\n",
    "\n",
    "    This function first creates a copy of the given model. It then checks each \n",
    "    constraint to identify zero rows, i.e., rows where all coefficients are zero.\n",
    "\n",
    "    Based on the right-hand side and the sense of these zero rows, the function \n",
    "    classifies each constraint as:\n",
    "    - 'Redundant' if the constraint is rendered redundant based on the rules\n",
    "    - 'Infeasible' if the constraint renders the model infeasible\n",
    "    - 'Valid' for all other constraints\n",
    "\n",
    "    Parameters:\n",
    "    - model: The Gurobi model to be processed.\n",
    "\n",
    "    Returns:\n",
    "    - A dictionary where each key is a constraint name, and the value is\n",
    "      a string indicating whether the constraint is 'Redundant', 'Infeasible', or 'Valid'.\n",
    "    \"\"\"\n",
    "    try:\n",
    "        # Copy the model\n",
    "        model_copy = model.copy()\n",
    "\n",
    "        # Identify zero rows and classify constraints\n",
    "        feedback = {}\n",
    "        for i, constr in enumerate(model_copy.getConstrs()):\n",
    "            is_zero_row = all(model_copy.getCoeff(constr, var) == 0 for var in model_copy.getVars())\n",
    "\n",
    "            if is_zero_row:\n",
    "                if constr.Sense == GRB.LESS_EQUAL:\n",
    "                    if constr.RHS >= 0:\n",
    "                        feedback[constr.ConstrName] = 'Redundant'\n",
    "                    else:\n",
    "                        feedback[constr.ConstrName] = 'Infeasible'\n",
    "                elif constr.Sense == GRB.GREATER_EQUAL:\n",
    "                    if constr.RHS <= 0:\n",
    "                        feedback[constr.ConstrName] = 'Redundant'\n",
    "                    else:\n",
    "                        feedback[constr.ConstrName] = 'Infeasible'\n",
    "                elif constr.Sense == GRB.EQUAL:\n",
    "                    if constr.RHS == 0:\n",
    "                        feedback[constr.ConstrName] = 'Redundant'\n",
    "                    else:\n",
    "                        feedback[constr.ConstrName] = 'Infeasible'\n",
    "            else:\n",
    "                feedback[constr.ConstrName] = 'Valid'\n",
    "\n",
    "        return feedback\n",
    "\n",
    "    except Exception as e:\n",
    "        print(f\"An error occurred: {e}\")\n",
    "        return None"
   ]
  },
  {
   "cell_type": "code",
   "execution_count": 262,
   "id": "a3f1d6dc-8bdd-4fcc-9c31-9e3df791cc3c",
   "metadata": {},
   "outputs": [
    {
     "name": "stdout",
     "output_type": "stream",
     "text": [
      "Machine1: Valid\n",
      "Machine2: Valid\n",
      "DemandA: Valid\n",
      "DemandB: Valid\n",
      "zero_rows_case_1: Redundant\n",
      "zero_rows_case_2: Infeasible\n",
      "zero_rows_case_3: Redundant\n",
      "zero_rows_case_4: Infeasible\n",
      "zero_rows_case_5: Redundant\n",
      "zero_rows_case_6: Infeasible\n"
     ]
    }
   ],
   "source": [
    "feedback = eliminate_zero_rows(model)\n",
    "for key, value in feedback.items():\n",
    "    print(f'{key}: {value}')"
   ]
  },
  {
   "cell_type": "markdown",
   "id": "cdb8e0fe-7b9f-44cf-93cb-59d9790ab961",
   "metadata": {},
   "source": [
    "<a id=\"M3\"> </a>\n",
    "<span style=\"font-family: Arial; font-weight:bold;font-size:1.8em;color:#6E1B1B\">3. Eliminate Zero Columns​"
   ]
  },
  {
   "cell_type": "markdown",
   "id": "0704de40-cea3-4e5b-8977-df5278aaa047",
   "metadata": {},
   "source": [
    "<a id=\"M3.1\"> </a>\n",
    "<span style=\"font-family: Arial; font-weight:bold;font-size:1.0em;color:#6E1B1B\">3.1 Theorem "
   ]
  },
  {
   "cell_type": "markdown",
   "id": "e71116e4-8de0-4e4e-a769-e7a5e8f5807a",
   "metadata": {},
   "source": [
    "In the context of linear programming, the process of eliminating zero columns involves analyzing the columns of the coefficient matrix, A. A column in this matrix is considered an empty column if all the coefficients in that column are equal to zero. In such scenarios, the corresponding variable might be either redundant or indicative of an unbounded linear programming (LP) problem. This distinction is made clear in the following theorem:\n",
    "\n",
    "For each empty column in the coefficient matrix, A, we distinguish the following cases:\n",
    "\n",
    "- **Case 1:** $c_j \\geq 0$ <br>\n",
    "  In this case, the variable is redundant and can be removed. This involves deleting the j-th variable from the decision vector, the j-th element in the cost vector, and the j-th column of the A matrix.\n",
    "\n",
    "- **Case 2:** $c_j < 0$ <br>\n",
    "   If this condition is met, it implies that the LP problem is unbounded."
   ]
  },
  {
   "cell_type": "markdown",
   "id": "9cdf241a-436c-401d-aaf7-e2e231faac55",
   "metadata": {},
   "source": [
    "<a id=\"M3.2\"> </a>\n",
    "<span style=\"font-family: Arial; font-weight:bold;font-size:1.0em;color:#6E1B1B\">3.2 Modelling "
   ]
  },
  {
   "cell_type": "code",
   "execution_count": 151,
   "id": "211a01da-c0ed-47f5-9771-111f11f8ed7b",
   "metadata": {},
   "outputs": [],
   "source": [
    "# Add a new Decision Variable\n",
    "x3 = model.addVar(vtype=GRB.CONTINUOUS, name=\"x3\", lb=0)\n",
    "x4 = model.addVar(vtype=GRB.CONTINUOUS, name=\"x4\", lb=0)\n",
    "# Set the Objective Function\n",
    "model.setObjective(50 * x1 + 40 * x2 - 10 * x3 + 8* x4, GRB.MAXIMIZE)"
   ]
  },
  {
   "cell_type": "code",
   "execution_count": 152,
   "id": "69c81db6-93a3-445d-8862-5c2ea83ee7ef",
   "metadata": {},
   "outputs": [],
   "source": [
    "model.update()"
   ]
  },
  {
   "cell_type": "code",
   "execution_count": 153,
   "id": "28f32d06-46e2-4abc-a398-6830b9876a2b",
   "metadata": {},
   "outputs": [
    {
     "name": "stdout",
     "output_type": "stream",
     "text": [
      "Maximize\n",
      "  50.0 x1 + 40.0 x2 + -10.0 x3 + 8.0 x4\n",
      "Subject To\n",
      "  Machine1: x1 + 0.5 x2 <= 12\n",
      "  Machine2: 0.5 x1 + x2 <= 10\n",
      "  DemandA: x1 <= 20\n",
      "  DemandB: x2 <= 25\n",
      "  zero_rows_case_1: 0.0 <= 10\n",
      "  zero_rows_case_2: 0.0 <= -10\n",
      "  zero_rows_case_3: 0.0 >= -10\n",
      "  zero_rows_case_4: 0.0 >= 10\n",
      "  zero_rows_case_5: 0.0 = 0\n",
      "  zero_rows_case_6: 0.0 = 10\n"
     ]
    }
   ],
   "source": [
    "# print the model (build from mps file)\n",
    "model.display()"
   ]
  },
  {
   "cell_type": "code",
   "execution_count": 154,
   "id": "93aae4c2-f934-4a77-89bd-bb999b93911d",
   "metadata": {},
   "outputs": [
    {
     "name": "stdout",
     "output_type": "stream",
     "text": [
      "[[1.  0.5 0.  0. ]\n",
      " [0.5 1.  0.  0. ]\n",
      " [1.  0.  0.  0. ]\n",
      " [0.  1.  0.  0. ]\n",
      " [0.  0.  0.  0. ]\n",
      " [0.  0.  0.  0. ]\n",
      " [0.  0.  0.  0. ]\n",
      " [0.  0.  0.  0. ]\n",
      " [0.  0.  0.  0. ]\n",
      " [0.  0.  0.  0. ]]\n"
     ]
    }
   ],
   "source": [
    "# Access constraint matrix A\n",
    "A = model.getA()\n",
    "print(A.A)"
   ]
  },
  {
   "cell_type": "markdown",
   "id": "0dc92672-4391-4a1c-bcef-7b934ed7bffb",
   "metadata": {},
   "source": [
    "<a id=\"M3.3\"> </a>\n",
    "<span style=\"font-family: Arial; font-weight:bold;font-size:1.0em;color:#6E1B1B\">3.3 Implementation"
   ]
  },
  {
   "cell_type": "code",
   "execution_count": 155,
   "id": "10744711-b24f-4cbc-9f15-3925bc3ba2a9",
   "metadata": {},
   "outputs": [],
   "source": [
    "def eliminate_zero_columns(model):\n",
    "    \"\"\"\n",
    "    This function evaluates each decision variable in a given Gurobi model to identify redundant or unbounded variables.\n",
    "    It checks if a column in the coefficient matrix A is empty (all coefficients are zero).\n",
    "    Depending on the cost coefficient c_j, the variable is classified as redundant, unbounded, or valid.\n",
    "\n",
    "    Args:\n",
    "    model (gurobipy.Model): The Gurobi model to evaluate.\n",
    "\n",
    "    Returns:\n",
    "    dict: A dictionary where keys are variable names and values are feedback strings ('Redundant', 'Unbounded', 'Valid').\n",
    "    \"\"\"\n",
    "\n",
    "    feedback = {}\n",
    "    A = model.getA()\n",
    "    for j, var in enumerate(model.getVars()):\n",
    "        # Extract the column corresponding to the variable\n",
    "        col = A.A[:, j]\n",
    "\n",
    "        # Check if all coefficients in the column are zero\n",
    "        if all(c == 0 for c in col):\n",
    "            c_j = var.obj\n",
    "\n",
    "            # Classify based on c_j value\n",
    "            if c_j >= 0:\n",
    "                feedback[var.varName] = 'Redundant'\n",
    "            else:\n",
    "                feedback[var.varName] = 'Unbounded'\n",
    "        else:\n",
    "            feedback[var.varName] = 'Valid'\n",
    "\n",
    "    return feedback"
   ]
  },
  {
   "cell_type": "code",
   "execution_count": 156,
   "id": "922816b3-3752-4a80-9705-7a0ab682cd9b",
   "metadata": {},
   "outputs": [
    {
     "name": "stdout",
     "output_type": "stream",
     "text": [
      "x1: Valid\n",
      "x2: Valid\n",
      "x3: Unbounded\n",
      "x4: Redundant\n"
     ]
    }
   ],
   "source": [
    "feedback_var = eliminate_zero_columns(model)\n",
    "for key, value in feedback_var.items():\n",
    "    print(f'{key}: {value}')"
   ]
  },
  {
   "cell_type": "markdown",
   "id": "df36d67c-3fb1-488a-a16b-c82d479446fc",
   "metadata": {},
   "source": [
    "<a id=\"M4\"> </a>\n",
    "<span style=\"font-family: Arial; font-weight:bold;font-size:1.8em;color:#6E1B1B\">4. Eliminate Singleton Equality Constraints​"
   ]
  },
  {
   "cell_type": "markdown",
   "id": "6035c031-2dc9-42ef-8624-64f447630237",
   "metadata": {},
   "source": [
    "<a id=\"M4.1\"> </a>\n",
    "<span style=\"font-family: Arial; font-weight:bold;font-size:1.0em;color:#6E1B1B\">4.1 Theorem "
   ]
  },
  {
   "cell_type": "markdown",
   "id": "ad337634-5157-46db-9de2-e290d8de91cd",
   "metadata": {},
   "source": [
    "An equality row of the coefficient matrix A is a singleton row if one coefficient in that row is nonzero. This can be described in the context of a linear program as follows:\n",
    "\n",
    "The singleton equality row can be expressed as:\n",
    "\n",
    "$ A_{i1} \\cdot x_1 + A_{i2} \\cdot x_2 + \\ldots + A_{in} \\cdot x_n = b_i $\n",
    "- where $A_{ik} \\neq 0 $ and $A_{ij} = 0 $, $i \\in \\{1, 2, ..., m\\}$, $j \\in \\{1, 2, ..., n\\}$, and for $j \\neq k$. \n",
    "- The constraint simplifies to: $A_{ik} \\cdot x_k = b_i$\n",
    "- Hence, $x_k = \\frac{b_i}{A_{ik}}$.\n",
    "- Depending on this value, we can determine the nature of the constraint:\n",
    "\n",
    "**Case 1: $x_k \\geq 0$** <br>\n",
    "- Row *i* and column *k* are redundant and can be deleted.\n",
    "    - Adjustments:\n",
    "        - Replace variable $x_k$ in all constraints: $b := b - x_k \\cdot A_{.k}$\n",
    "        - If $c_k \\neq 0$, update the constant term of the objective function as $c_o = c_o - c_k \\cdot \\left( \\frac{b_i}{A_{ik}} \\right)$\n",
    "    - Deletions:\n",
    "        - Delete row $i$ from matrix $A$, delete element $i$ from vector b\n",
    "        - Delete column *k* from matrix A, delete element *k* from vector c\n",
    "    - Note: This process can create new singleton equality rows, so it's repeated until no more such rows exist.\n",
    "\n",
    "\n",
    "**Case 2: $x_k < 0$**\n",
    "- The linear programming problem is infeasible."
   ]
  },
  {
   "cell_type": "markdown",
   "id": "af16f762-c065-4649-9690-cff1f753bdaf",
   "metadata": {},
   "source": [
    "<a id=\"M4.2\"> </a>\n",
    "<span style=\"font-family: Arial; font-weight:bold;font-size:1.0em;color:#6E1B1B\">4.2 Modelling "
   ]
  },
  {
   "cell_type": "code",
   "execution_count": 157,
   "id": "fca03f96-0e51-4e2a-9245-97ebad03cbac",
   "metadata": {},
   "outputs": [
    {
     "name": "stdout",
     "output_type": "stream",
     "text": [
      "Maximize\n",
      "  50.0 x1 + 40.0 x2 + -10.0 x3 + 8.0 x4\n",
      "Subject To\n",
      "  Machine1: x1 + 0.5 x2 <= 12\n",
      "  Machine2: 0.5 x1 + x2 <= 10\n",
      "  DemandA: x1 <= 20\n",
      "  DemandB: x2 <= 25\n",
      "  zero_rows_case_1: 0.0 <= 10\n",
      "  zero_rows_case_2: 0.0 <= -10\n",
      "  zero_rows_case_3: 0.0 >= -10\n",
      "  zero_rows_case_4: 0.0 >= 10\n",
      "  zero_rows_case_5: 0.0 = 0\n",
      "  zero_rows_case_6: 0.0 = 10\n"
     ]
    }
   ],
   "source": [
    "model.update()\n",
    "model.display()"
   ]
  },
  {
   "cell_type": "code",
   "execution_count": 158,
   "id": "80ab38db-78c5-4d41-be91-474fe2ad1ad0",
   "metadata": {},
   "outputs": [
    {
     "data": {
      "text/plain": [
       "<gurobi.Constr *Awaiting Model Update*>"
      ]
     },
     "execution_count": 158,
     "metadata": {},
     "output_type": "execute_result"
    }
   ],
   "source": [
    "# add these constraints to the problem\n",
    "model.addConstr(0 * x1 + 0* x2 + 0* x3 + 4 * x4 == 10, \"single_equal_case_1\")\n",
    "model.addConstr(0 * x1 + 0* x2 + 0* x3 + 4 * x4 == -10, \"single_equal_case_2\")"
   ]
  },
  {
   "cell_type": "code",
   "execution_count": 159,
   "id": "48adf32b-999f-49ce-a39a-92552b73fb07",
   "metadata": {},
   "outputs": [
    {
     "name": "stdout",
     "output_type": "stream",
     "text": [
      "Maximize\n",
      "  50.0 x1 + 40.0 x2 + -10.0 x3 + 8.0 x4\n",
      "Subject To\n",
      "  Machine1: x1 + 0.5 x2 <= 12\n",
      "  Machine2: 0.5 x1 + x2 <= 10\n",
      "  DemandA: x1 <= 20\n",
      "  DemandB: x2 <= 25\n",
      "  zero_rows_case_1: 0.0 <= 10\n",
      "  zero_rows_case_2: 0.0 <= -10\n",
      "  zero_rows_case_3: 0.0 >= -10\n",
      "  zero_rows_case_4: 0.0 >= 10\n",
      "  zero_rows_case_5: 0.0 = 0\n",
      "  zero_rows_case_6: 0.0 = 10\n",
      "  single_equal_case_1: 4.0 x4 = 10\n",
      "  single_equal_case_2: 4.0 x4 = -10\n"
     ]
    }
   ],
   "source": [
    "model.update()\n",
    "model.display()"
   ]
  },
  {
   "cell_type": "code",
   "execution_count": 160,
   "id": "83f1132e-d14f-4702-bb83-299371b419f8",
   "metadata": {},
   "outputs": [
    {
     "name": "stdout",
     "output_type": "stream",
     "text": [
      "[[1.  0.5 0.  0. ]\n",
      " [0.5 1.  0.  0. ]\n",
      " [1.  0.  0.  0. ]\n",
      " [0.  1.  0.  0. ]\n",
      " [0.  0.  0.  0. ]\n",
      " [0.  0.  0.  0. ]\n",
      " [0.  0.  0.  0. ]\n",
      " [0.  0.  0.  0. ]\n",
      " [0.  0.  0.  0. ]\n",
      " [0.  0.  0.  0. ]\n",
      " [0.  0.  0.  4. ]\n",
      " [0.  0.  0.  4. ]]\n"
     ]
    }
   ],
   "source": [
    "# Access constraint matrix A\n",
    "A = model.getA()\n",
    "print(A.A)"
   ]
  },
  {
   "cell_type": "markdown",
   "id": "44d5edcb-0102-41e9-8d10-a0cb0c0f47b3",
   "metadata": {},
   "source": [
    "<a id=\"M4.3\"> </a>\n",
    "<span style=\"font-family: Arial; font-weight:bold;font-size:1.0em;color:#6E1B1B\">4.3 Implementation"
   ]
  },
  {
   "cell_type": "code",
   "execution_count": 244,
   "id": "71649da6-74ab-4e10-9445-e0270e3a1311",
   "metadata": {},
   "outputs": [],
   "source": [
    "def eliminate_singleton_equalities(model, current_matrices_path):\n",
    "    \"\"\"\n",
    "    This function processes a Gurobi model to eliminate singleton equality constraints.\n",
    "    It simplifies the model by fixing variables and updating the model accordingly.\n",
    "    If a negative fixed value for a variable is found, the model is declared infeasible.\n",
    "\n",
    "    Args:\n",
    "    model (gurobipy.Model): The Gurobi model to process.\n",
    "\n",
    "    Returns:\n",
    "    gurobipy.Model: The updated Gurobi model after eliminating singleton equalities.\n",
    "    \"\"\"\n",
    "\n",
    "    # Copy the model to avoid modifying the original\n",
    "    copied_model = model.copy()\n",
    "\n",
    "    # Variable to track if we found a singleton in the current iteration\n",
    "    found_singleton = True\n",
    "\n",
    "    # Dictionary to store solutions for singletons\n",
    "    solution = {}\n",
    "\n",
    "    while found_singleton:\n",
    "        found_singleton = False\n",
    "\n",
    "        # Getting the matrices of the model\n",
    "        A, b, c, lb, ub, of_sense, cons_senses = get_model_matrices(copied_model)\n",
    "\n",
    "        # Getting objective function expression\n",
    "        of = copied_model.getObjective()\n",
    "\n",
    "        # Getting the variable names\n",
    "        variable_names = [var.VarName for var in copied_model.getVars()]\n",
    "\n",
    "        # Getting the number of nonzero elements per row\n",
    "        nonzero_count_per_row = np.count_nonzero(A.A, axis=1)\n",
    "\n",
    "        # Create a boolean array where True indicates rows with a single non-zero element\n",
    "        single_nonzero = nonzero_count_per_row == 1\n",
    "\n",
    "        # Create a boolean array where True indicates rows with '=' constraint sense\n",
    "        equality_constraints = np.array(cons_senses) == '='\n",
    "\n",
    "        # Combine the two conditions\n",
    "        valid_rows = np.logical_and(single_nonzero, equality_constraints)\n",
    "\n",
    "        # Find the index of the first row that satisfies both conditions\n",
    "        first_singleton_index = np.where(valid_rows)[0][0] if np.any(valid_rows) else None\n",
    "\n",
    "        # Check if the equality singleton row exists and process it\n",
    "        if first_singleton_index is not None:\n",
    "\n",
    "            found_singleton = True\n",
    "            # Extract the singleton row\n",
    "            singleton_row = A.A[first_singleton_index, :]\n",
    "\n",
    "            # Identify the non-zero column (k)\n",
    "            k_index = np.nonzero(singleton_row)[0][0]\n",
    "\n",
    "            # Calculate the value for the variable corresponding to the singleton row\n",
    "            x_k = b[first_singleton_index] / A.A[first_singleton_index, k_index]\n",
    "\n",
    "            if x_k >= 0:\n",
    "                # Update the solution dictionary\n",
    "                solution[variable_names[k_index]] = x_k\n",
    "\n",
    "                # update b\n",
    "                b = b - A.A[:, k_index] * x_k\n",
    "                b = np.delete(b, first_singleton_index)\n",
    "                b = b.tolist()\n",
    "\n",
    "                # update objective function constant\n",
    "                if c[k_index] != 0:\n",
    "                    of = of - c[k_index]*x_k\n",
    "\n",
    "                # Update A\n",
    "                A_new = np.delete(A.A, first_singleton_index, axis=0)  # Delete row\n",
    "                A_new = np.delete(A_new, k_index, axis=1)  # Delete column\n",
    "                A = csr_matrix(A_new)\n",
    "\n",
    "                # update c, lb, ub and cons_senses\n",
    "                del c[k_index]\n",
    "                lb = np.delete(lb, k_index)\n",
    "                ub = np.delete(ub, k_index)\n",
    "                del cons_senses[first_singleton_index]\n",
    "                del variable_names[k_index]\n",
    "\n",
    "                save_json(A, b, c, lb, ub, of_sense, cons_senses, current_matrices_path, variable_names)\n",
    "                copied_model = build_model_from_json(current_matrices_path)\n",
    "\n",
    "            else:\n",
    "                # Problem is infeasible\n",
    "                return \"Warning: Model is infeasible due to a negative singleton.\"\n",
    "\n",
    "    # Update the model\n",
    "    copied_model.update()\n",
    "    return copied_model, solution"
   ]
  },
  {
   "cell_type": "code",
   "execution_count": 245,
   "id": "61984c16-89c0-46bb-b987-a654ebf3362a",
   "metadata": {},
   "outputs": [
    {
     "name": "stdout",
     "output_type": "stream",
     "text": [
      "Maximize\n",
      "  -20.0 + 50.0 x1 + 40.0 x2 + -10.0 x3 + 8.0 x4\n",
      "Subject To\n",
      "  Machine1: x1 + 0.5 x2 <= 12\n",
      "  Machine2: 0.5 x1 + x2 <= 10\n",
      "  DemandA: x1 <= 20\n",
      "  DemandB: x2 <= 25\n",
      "  zero_rows_case_1: 0.0 <= 10\n",
      "  zero_rows_case_2: 0.0 <= -10\n",
      "  zero_rows_case_3: 0.0 >= -10\n",
      "  zero_rows_case_4: 0.0 >= 10\n",
      "  zero_rows_case_5: 0.0 = 0\n",
      "  zero_rows_case_6: 0.0 = 10\n",
      "  single_equal_case_1: 4.0 x4 = 10\n",
      "  single_equal_case_2: 4.0 x4 = -10\n"
     ]
    }
   ],
   "source": [
    "model.update()\n",
    "model.display()"
   ]
  },
  {
   "cell_type": "code",
   "execution_count": 247,
   "id": "faf19c3b-c67a-4dca-86d7-9750ea89109c",
   "metadata": {},
   "outputs": [
    {
     "ename": "GurobiError",
     "evalue": "Constr was removed from the model",
     "output_type": "error",
     "traceback": [
      "\u001b[1;31m---------------------------------------------------------------------------\u001b[0m",
      "\u001b[1;31mGurobiError\u001b[0m                               Traceback (most recent call last)",
      "Cell \u001b[1;32mIn[247], line 1\u001b[0m\n\u001b[1;32m----> 1\u001b[0m new_model \u001b[38;5;241m=\u001b[39m \u001b[43meliminate_singleton_equalities\u001b[49m\u001b[43m(\u001b[49m\u001b[43mmodel\u001b[49m\u001b[43m)\u001b[49m\n",
      "Cell \u001b[1;32mIn[244], line 28\u001b[0m, in \u001b[0;36meliminate_singleton_equalities\u001b[1;34m(model)\u001b[0m\n\u001b[0;32m     25\u001b[0m copied_model\u001b[38;5;241m.\u001b[39mupdate()\n\u001b[0;32m     27\u001b[0m \u001b[38;5;66;03m# Check if the constraint is an equality constraint\u001b[39;00m\n\u001b[1;32m---> 28\u001b[0m \u001b[38;5;28;01mif\u001b[39;00m \u001b[43mconstr\u001b[49m\u001b[38;5;241;43m.\u001b[39;49m\u001b[43mSense\u001b[49m \u001b[38;5;241m==\u001b[39m GRB\u001b[38;5;241m.\u001b[39mEQUAL:\n\u001b[0;32m     29\u001b[0m \n\u001b[0;32m     30\u001b[0m     \u001b[38;5;66;03m# Extract the row of this constraint\u001b[39;00m\n\u001b[0;32m     31\u001b[0m     A \u001b[38;5;241m=\u001b[39m copied_model\u001b[38;5;241m.\u001b[39mgetA()\n\u001b[0;32m     32\u001b[0m     row \u001b[38;5;241m=\u001b[39m A\u001b[38;5;241m.\u001b[39mA[i, :]\n",
      "File \u001b[1;32msrc\\\\gurobipy\\\\constr.pxi:67\u001b[0m, in \u001b[0;36mgurobipy.Constr.__getattr__\u001b[1;34m()\u001b[0m\n",
      "File \u001b[1;32msrc\\\\gurobipy\\\\constr.pxi:95\u001b[0m, in \u001b[0;36mgurobipy.Constr.getAttr\u001b[1;34m()\u001b[0m\n",
      "File \u001b[1;32msrc\\\\gurobipy\\\\attrutil.pxi:69\u001b[0m, in \u001b[0;36mgurobipy._getattr\u001b[1;34m()\u001b[0m\n",
      "\u001b[1;31mGurobiError\u001b[0m: Constr was removed from the model"
     ]
    }
   ],
   "source": [
    "new_model = eliminate_singleton_equalities(model)"
   ]
  },
  {
   "cell_type": "markdown",
   "id": "d3cafe0a-150f-4391-a90c-ba717ec32fde",
   "metadata": {},
   "source": [
    "<a id=\"M4\"> </a>\n",
    "<span style=\"font-family: Arial; font-weight:bold;font-size:1.8em;color:#6E1B1B\">4. Eliminate kton Equality Constraints"
   ]
  },
  {
   "cell_type": "code",
   "execution_count": null,
   "id": "f315867f-6c7e-4caf-9831-ab34a6b41e7c",
   "metadata": {},
   "outputs": [],
   "source": []
  },
  {
   "cell_type": "markdown",
   "id": "109ad6a1-f751-48f1-a9b6-6b2a7dd6ae88",
   "metadata": {},
   "source": [
    "<a id=\"M5\"> </a>\n",
    "<span style=\"font-family: Arial; font-weight:bold;font-size:1.8em;color:#6E1B1B\">5. Eliminate Singleton Inequality Constraints"
   ]
  },
  {
   "cell_type": "code",
   "execution_count": null,
   "id": "84843f34-6a68-48fb-a910-0fa3168193c8",
   "metadata": {},
   "outputs": [],
   "source": []
  },
  {
   "cell_type": "markdown",
   "id": "340ef8e3-a0fe-454e-af40-6d3f127bb9d2",
   "metadata": {},
   "source": [
    "<a id=\"M6\"> </a>\n",
    "<span style=\"font-family: Arial; font-weight:bold;font-size:1.8em;color:#6E1B1B\">6. Eliminate Dual Singleton Inequality Constraints"
   ]
  },
  {
   "cell_type": "code",
   "execution_count": null,
   "id": "1aa3b7dc-c418-4438-b86a-710f9bf729d3",
   "metadata": {},
   "outputs": [],
   "source": []
  },
  {
   "cell_type": "markdown",
   "id": "cb24f961-4f89-4150-94cd-9591e2b80d84",
   "metadata": {},
   "source": [
    "<a id=\"M7\"> </a>\n",
    "<span style=\"font-family: Arial; font-weight:bold;font-size:1.8em;color:#6E1B1B\">7. Eliminate Implied Free Singleton Columns"
   ]
  },
  {
   "cell_type": "code",
   "execution_count": null,
   "id": "16071f6e-492a-42d8-9c0d-95fa7b3bf4ca",
   "metadata": {},
   "outputs": [],
   "source": []
  },
  {
   "cell_type": "markdown",
   "id": "05d2bde0-0b7f-436c-8132-31be2f872ffa",
   "metadata": {},
   "source": [
    "<a id=\"M8\"> </a>\n",
    "<span style=\"font-family: Arial; font-weight:bold;font-size:1.8em;color:#6E1B1B\">8. Eliminate Redundant Columns​"
   ]
  },
  {
   "cell_type": "code",
   "execution_count": null,
   "id": "1795c332-b8cd-4028-9020-6e40885ff392",
   "metadata": {},
   "outputs": [],
   "source": []
  },
  {
   "cell_type": "markdown",
   "id": "769b545f-9f59-4f26-9866-382279534206",
   "metadata": {},
   "source": [
    "<a id=\"M9\"> </a>\n",
    "<span style=\"font-family: Arial; font-weight:bold;font-size:1.8em;color:#6E1B1B\">9. Eliminate Implied Bounds on Rows ​"
   ]
  },
  {
   "cell_type": "code",
   "execution_count": null,
   "id": "7201f53a-61bd-42fa-a27e-cce080b8a1cd",
   "metadata": {},
   "outputs": [],
   "source": []
  },
  {
   "cell_type": "markdown",
   "id": "ffec059f-8761-478d-a5d0-7ac30f613413",
   "metadata": {},
   "source": [
    "<a id=\"M10\"> </a>\n",
    "<span style=\"font-family: Arial; font-weight:bold;font-size:1.8em;color:#6E1B1B\">10. Eliminate Redundant Rows​"
   ]
  },
  {
   "cell_type": "code",
   "execution_count": null,
   "id": "6b05e353-92f3-402e-8f69-81e3cbb799ef",
   "metadata": {},
   "outputs": [],
   "source": []
  },
  {
   "cell_type": "markdown",
   "id": "4a001b8a-6d75-4212-8b87-81ff12a17db7",
   "metadata": {},
   "source": [
    "<a id=\"M11\"> </a>\n",
    "<span style=\"font-family: Arial; font-weight:bold;font-size:1.8em;color:#6E1B1B\">11. Make Coefficient Matrix Structurally Full Rank"
   ]
  },
  {
   "cell_type": "code",
   "execution_count": null,
   "id": "32c7aa0b-196e-40ff-a533-a878c15adb78",
   "metadata": {},
   "outputs": [],
   "source": []
  }
 ],
 "metadata": {
  "kernelspec": {
   "display_name": "Python 3 (ipykernel)",
   "language": "python",
   "name": "python3"
  },
  "language_info": {
   "codemirror_mode": {
    "name": "ipython",
    "version": 3
   },
   "file_extension": ".py",
   "mimetype": "text/x-python",
   "name": "python",
   "nbconvert_exporter": "python",
   "pygments_lexer": "ipython3",
   "version": "3.9.13"
  }
 },
 "nbformat": 4,
 "nbformat_minor": 5
}
