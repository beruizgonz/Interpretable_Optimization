{
 "cells": [
  {
   "cell_type": "code",
   "execution_count": 1,
   "id": "5d6ea91c",
   "metadata": {},
   "outputs": [],
   "source": [
    "import numpy as np\n",
    "import pandas as pd\n",
    "import matplotlib.pyplot as plt"
   ]
  },
  {
   "cell_type": "markdown",
   "id": "62edf9ba",
   "metadata": {},
   "source": [
    "Define the matrix to use"
   ]
  },
  {
   "cell_type": "code",
   "execution_count": 2,
   "id": "1afeaffc-ae19-4453-925d-6cadb63f98a5",
   "metadata": {},
   "outputs": [
    {
     "name": "stdout",
     "output_type": "stream",
     "text": [
      "Matrix A:\n",
      "      Col1   Col2  Col3  Col4\n",
      "Row1  2.00  1.000   0.0   1.0\n",
      "Row2  3.00  2.000   0.0   2.0\n",
      "Row3  1.99  1.010   0.0   1.0\n",
      "Row4  0.50  0.251   0.0   0.5\n",
      "Row5  0.00  0.000   1.0   1.0\n"
     ]
    }
   ],
   "source": [
    "A = np.array([\n",
    "    [2,    1,    0, 1],\n",
    "    [3,    2,    0, 2],\n",
    "    [1.99, 1.01, 0, 1],\n",
    "    [0.5,  0.251, 0, 0.5],\n",
    "    [0,    0,    1, 1]\n",
    "])\n",
    "\n",
    "A1 = np.array([\n",
    "    [1, 1, 0, 0], \n",
    "    [1, 1, 1, 0], \n",
    "    [1, 1, 0, -2]\n",
    "])\n",
    "\n",
    "Y = np.array([\n",
    "    [2.31, 1.92],\n",
    "    [2.49, 1.68],\n",
    "    [-2.31, -1.92],\n",
    "    [-2.49, -1.68],\n",
    "    [3.32, 2.24],\n",
    "    [-3.08, -2.56],\n",
    "    [-3.08, -2.56],\n",
    "    [-3.32, -2.24]\n",
    "])\n",
    "\n",
    "A_centered = A - A.mean(axis=0)\n",
    "\n",
    "print(\"Matrix A:\")\n",
    "print(pd.DataFrame(A, index=[f'Row{i+1}' for i in range(A.shape[0])],\n",
    "                       columns=[f'Col{j+1}' for j in range(A.shape[1])]))\n",
    "\n"
   ]
  },
  {
   "cell_type": "code",
   "execution_count": 3,
   "id": "6c487ff9",
   "metadata": {},
   "outputs": [
    {
     "name": "stdout",
     "output_type": "stream",
     "text": [
      "\n",
      "Mean of the matrix Y:\n",
      "[-0.77 -0.64]\n"
     ]
    }
   ],
   "source": [
    "# Calculate the mean of the matrix Y\n",
    "Y_mean = Y.mean(axis=0)\n",
    "print(\"\\nMean of the matrix Y:\")\n",
    "print(Y_mean)"
   ]
  },
  {
   "cell_type": "markdown",
   "id": "71c5aef1",
   "metadata": {},
   "source": [
    "# Singular Values Descomposition (SVD)"
   ]
  },
  {
   "cell_type": "markdown",
   "id": "d23c1811",
   "metadata": {},
   "source": [
    "For matrix A"
   ]
  },
  {
   "cell_type": "code",
   "execution_count": 41,
   "id": "a0d55df9",
   "metadata": {},
   "outputs": [
    {
     "name": "stdout",
     "output_type": "stream",
     "text": [
      "\n",
      "Singular Value Decomposition of A2:\n",
      "\n",
      "U matrix:\n",
      "            U1        U2        U3\n",
      "Row1  0.404234  0.401439  0.821853\n",
      "Row2  0.460469  0.687049 -0.562078\n",
      "Row3  0.790293 -0.605649 -0.092879\n",
      "\n",
      "Singular values (Sigma):\n",
      "[2.86152207 1.55098208 0.63729588]\n",
      "\n",
      "V^T matrix:\n",
      "          Col1      Col2          Col3      Col4\n",
      "V1^T  0.578362  0.578362  1.609174e-01 -0.552359\n",
      "V2^T  0.311312  0.311312  4.429770e-01  0.780987\n",
      "V3^T  0.261882  0.261882 -8.819733e-01  0.291477\n",
      "V4^T  0.707107 -0.707107 -5.551115e-17  0.000000\n",
      "\n",
      "Reconstructed Matrix A2 from SVD components:\n",
      "      Col1  Col2          Col3          Col4\n",
      "Row1   1.0   1.0 -3.871850e-16  2.032611e-16\n",
      "Row2   1.0   1.0  1.000000e+00 -5.378211e-16\n",
      "Row3   1.0   1.0 -6.843576e-17 -2.000000e+00\n"
     ]
    }
   ],
   "source": [
    "def svd(matrix): \n",
    "    U, S, Vt = np.linalg.svd(matrix, full_matrices=True)\n",
    "    print(\"\\nSingular Value Decomposition of A2:\")\n",
    "\n",
    "    print(\"\\nU matrix:\")\n",
    "    print(pd.DataFrame(U, index=[f'Row{i+1}' for i in range(U.shape[0])],\n",
    "                        columns=[f'U{i+1}' for i in range(U.shape[1])]))\n",
    "\n",
    "    print(\"\\nSingular values (Sigma):\")\n",
    "    print(S)\n",
    "\n",
    "    print(\"\\nV^T matrix:\")\n",
    "    print(pd.DataFrame(Vt, index=[f'V{i+1}^T' for i in range(Vt.shape[0])],\n",
    "                        columns=[f'Col{j+1}' for j in range(Vt.shape[1])]))\n",
    "\n",
    "    # 3. Reconstruct A2 from SVD components\n",
    "    Sigma = np.zeros((U.shape[1], Vt.shape[0]))\n",
    "    np.fill_diagonal(Sigma, S)\n",
    "\n",
    "    A2_reconstructed = U @ Sigma @ Vt\n",
    "\n",
    "    print(\"\\nReconstructed Matrix A2 from SVD components:\")\n",
    "    print(pd.DataFrame(A2_reconstructed, index=[f'Row{i+1}' for i in range(A2_reconstructed.shape[0])],\n",
    "                                        columns=[f'Col{j+1}' for j in range(A2_reconstructed.shape[1])]))\n",
    "\n",
    "    return U, S, Vt\n",
    "\n",
    "U, S, Vt = svd(A1)\n"
   ]
  },
  {
   "cell_type": "code",
   "execution_count": 5,
   "id": "0bbea4a2",
   "metadata": {},
   "outputs": [
    {
     "name": "stdout",
     "output_type": "stream",
     "text": [
      "\n",
      "Singular Value Decomposition of A2:\n",
      "\n",
      "U matrix:\n",
      "            U1        U2        U3        U4        U5\n",
      "Row1 -0.156801  0.285844 -0.457996  0.695662  0.447214\n",
      "Row2 -0.670910 -0.408704  0.427466  0.010643  0.447214\n",
      "Row3 -0.155870  0.282751 -0.424291 -0.718146  0.447214\n",
      "Row4  0.398836  0.493868  0.629939  0.014200  0.447214\n",
      "Row5  0.584746 -0.653759 -0.175118 -0.002359  0.447214\n",
      "\n",
      "Singular values (Sigma):\n",
      "[3.0756779  0.94669635 0.29306214 0.00654585]\n",
      "\n",
      "V^T matrix:\n",
      "          Col1      Col2      Col3      Col4\n",
      "V1^T -0.792377 -0.505886  0.190119 -0.282971\n",
      "V2^T  0.163922 -0.128895 -0.690569 -0.692553\n",
      "V3^T -0.556075  0.431705 -0.597544  0.383866\n",
      "V4^T  0.189865 -0.735593 -0.360431  0.541243\n",
      "\n",
      "Reconstructed Matrix A2 from SVD components:\n",
      "       Col1    Col2  Col3  Col4\n",
      "Row1  0.502  0.1478  -0.2  -0.1\n",
      "Row2  1.502  1.1478  -0.2   0.9\n",
      "Row3  0.492  0.1578  -0.2  -0.1\n",
      "Row4 -0.998 -0.6012  -0.2  -0.6\n",
      "Row5 -1.498 -0.8522   0.8  -0.1\n"
     ]
    }
   ],
   "source": [
    "U_centered, S_centered, Vt_centered = svd(A_centered)"
   ]
  },
  {
   "cell_type": "markdown",
   "id": "b2d667b0",
   "metadata": {},
   "source": [
    "# PCA for rows"
   ]
  },
  {
   "cell_type": "code",
   "execution_count": 42,
   "id": "a668a681-b4d0-4a21-8c75-4546a8bea19f",
   "metadata": {},
   "outputs": [
    {
     "name": "stdout",
     "output_type": "stream",
     "text": [
      "\n",
      "Covariance Matrix between Rows (COVROW):\n",
      "          Row1      Row2      Row3\n",
      "Row1  0.333333  0.166667  0.666667\n",
      "Row2  0.166667  0.250000  0.666667\n",
      "Row3  0.666667  0.666667  2.000000\n",
      "\n",
      "Spectral Decomposition of COVROW:\n",
      "\n",
      "Eigenvalues:\n",
      "[ 2.44711872e+00  1.36214615e-01 -1.07551145e-16]\n",
      "\n",
      "Eigenvectors (columns correspond to eigenvalues):\n",
      "      Eigenvec1  Eigenvec2  Eigenvec3\n",
      "Row1  -0.308421  -0.859191  -0.408248\n",
      "Row2  -0.297548   0.494771  -0.816497\n",
      "Row3  -0.903516   0.130351   0.408248\n"
     ]
    }
   ],
   "source": [
    "# 4. Compute Covariance Matrix between Rows (COVROW)\n",
    "def pca_rows(matrix):\n",
    "    COVROW = np.cov(matrix, rowvar=True, bias=False)\n",
    "\n",
    "    print(\"\\nCovariance Matrix between Rows (COVROW):\")\n",
    "    print(pd.DataFrame(COVROW, index=[f'Row{i+1}' for i in range(COVROW.shape[0])],\n",
    "                            columns=[f'Row{j+1}' for j in range(COVROW.shape[1])]))\n",
    "\n",
    "    # 5. Spectral Decomposition of COVROW\n",
    "    eigenvalues_row, eigenvectors_row = np.linalg.eigh(COVROW)\n",
    "    sorted_indices_row = np.argsort(eigenvalues_row)[::-1]\n",
    "    eigenvalues_row = eigenvalues_row[sorted_indices_row]\n",
    "    eigenvectors_row = eigenvectors_row[:, sorted_indices_row]\n",
    "\n",
    "    print(\"\\nSpectral Decomposition of COVROW:\")\n",
    "\n",
    "    print(\"\\nEigenvalues:\")\n",
    "    print(eigenvalues_row)\n",
    "\n",
    "    print(\"\\nEigenvectors (columns correspond to eigenvalues):\")\n",
    "    print(pd.DataFrame(eigenvectors_row, index=[f'Row{i+1}' for i in range(eigenvectors_row.shape[0])],\n",
    "                        columns=[f'Eigenvec{j+1}' for j in range(eigenvectors_row.shape[1])]))\n",
    "    return eigenvalues_row, eigenvectors_row\n",
    "\n",
    "eigenvalues_row, eigenvectors_row = pca_rows(A1)\n"
   ]
  },
  {
   "cell_type": "markdown",
   "id": "6693417c",
   "metadata": {},
   "source": [
    "Orthogonality and orthonomal?"
   ]
  },
  {
   "cell_type": "code",
   "execution_count": 40,
   "id": "9ef9971c",
   "metadata": {},
   "outputs": [
    {
     "name": "stdout",
     "output_type": "stream",
     "text": [
      "\n",
      "Norm of the eigenvectors:\n",
      "[1. 1. 1. 1. 1.]\n",
      "\n",
      "Comprobation of the orthogonality of the eigenvectors:\n",
      "\n",
      "Orthogonality Check (Eigenvectors^T * Eigenvectors):\n",
      "              Eigenvec1     Eigenvec2     Eigenvec3     Eigenvec4  \\\n",
      "Eigenvec1  1.000000e+00 -1.080465e-16 -1.997324e-17  3.020368e-17   \n",
      "Eigenvec2 -1.080465e-16  1.000000e+00 -9.471895e-17  1.719914e-16   \n",
      "Eigenvec3 -1.997324e-17 -9.471895e-17  1.000000e+00  8.828531e-17   \n",
      "Eigenvec4  3.020368e-17  1.719914e-16  8.828531e-17  1.000000e+00   \n",
      "Eigenvec5  4.115900e-17 -3.546992e-17 -1.251748e-16 -8.496515e-17   \n",
      "\n",
      "              Eigenvec5  \n",
      "Eigenvec1  4.115900e-17  \n",
      "Eigenvec2 -3.546992e-17  \n",
      "Eigenvec3 -1.251748e-16  \n",
      "Eigenvec4 -8.496515e-17  \n",
      "Eigenvec5  1.000000e+00  \n",
      "\n",
      "Are the eigenvectors orthogonal?  True\n"
     ]
    }
   ],
   "source": [
    "norms = np.linalg.norm(eigenvectors_row, axis=0)\n",
    "print(\"\\nNorm of the eigenvectors:\")\n",
    "print(norms)\n",
    "\n",
    "# Comprobation of the orthogonality of the eigenvectors\n",
    "print(\"\\nComprobation of the orthogonality of the eigenvectors:\")\n",
    "orthogonality_matrix = eigenvectors_row.T @ eigenvectors_row\n",
    "\n",
    "print(\"\\nOrthogonality Check (Eigenvectors^T * Eigenvectors):\")\n",
    "print(pd.DataFrame(orthogonality_matrix, \n",
    "                  index=[f'Eigenvec{j+1}' for j in range(eigenvectors_row.shape[1])],\n",
    "                  columns=[f'Eigenvec{j+1}' for j in range(eigenvectors_row.shape[1])]))\n",
    "\n",
    "# Check if orthogonality_matrix is approximately an identity matrix\n",
    "is_orthogonal = np.allclose(orthogonality_matrix, np.identity(eigenvectors_row.shape[1]))\n",
    "print(\"\\nAre the eigenvectors orthogonal? \", is_orthogonal)"
   ]
  },
  {
   "cell_type": "markdown",
   "id": "64cb2962",
   "metadata": {},
   "source": [
    "Cumulative variance"
   ]
  },
  {
   "cell_type": "code",
   "execution_count": 43,
   "id": "a8707aec",
   "metadata": {},
   "outputs": [
    {
     "name": "stdout",
     "output_type": "stream",
     "text": [
      "\n",
      "Eigenvalues and Explained Variance:\n",
      "  Componente Principal    Eigenvalor  Varianza Explicada  Varianza Acumulada\n",
      "0                  PC1  2.447119e+00        9.472718e-01            0.947272\n",
      "1                  PC2  1.362146e-01        5.272824e-02            1.000000\n",
      "2                  PC3 -1.075511e-16       -4.163270e-17            1.000000\n"
     ]
    }
   ],
   "source": [
    "# print cumulative explained variance\n",
    "explained_variance = eigenvalues_row / eigenvalues_row.sum()\n",
    "cumulative_explained_variance = np.cumsum(explained_variance)\n",
    "\n",
    "variance_df = pd.DataFrame({\n",
    "    'Componente Principal': [f'PC{i+1}' for i in range(len(eigenvalues_row))],\n",
    "    'Eigenvalor':   eigenvalues_row,\n",
    "    'Varianza Explicada': explained_variance,\n",
    "    'Varianza Acumulada': cumulative_explained_variance\n",
    "})\n",
    "print(\"\\nEigenvalues and Explained Variance:\")\n",
    "print(variance_df)"
   ]
  },
  {
   "cell_type": "code",
   "execution_count": 44,
   "id": "7e8b602c",
   "metadata": {},
   "outputs": [
    {
     "data": {
      "image/png": "[encoded data removed]",
      "text/plain": [
       "<Figure size 800x500 with 1 Axes>"
      ]
     },
     "metadata": {},
     "output_type": "display_data"
    }
   ],
   "source": [
    "\n",
    "# 10. Visualización de la Varianza Acumulada\n",
    "plt.figure(figsize=(8, 5))\n",
    "plt.plot(range(1, len(cumulative_explained_variance)+1), cumulative_explained_variance, marker='o', linestyle='--', color='b')\n",
    "plt.title('Varianza Acumulada por Componentes Principales')\n",
    "plt.xlabel('Número de Componentes Principales')\n",
    "plt.ylabel('Varianza Acumulada')\n",
    "plt.xticks(range(1, len(cumulative_explained_variance)+1))\n",
    "plt.ylim(0, 1.05)\n",
    "plt.grid(True)\n",
    "plt.show()"
   ]
  },
  {
   "cell_type": "markdown",
   "id": "b13ba186",
   "metadata": {},
   "source": [
    "Relation between PCA for rows and SVD"
   ]
  },
  {
   "cell_type": "code",
   "execution_count": null,
   "id": "4151bebe",
   "metadata": {},
   "outputs": [],
   "source": []
  },
  {
   "cell_type": "markdown",
   "id": "623f2ca8",
   "metadata": {},
   "source": [
    "# PCA for columns"
   ]
  },
  {
   "cell_type": "code",
   "execution_count": 48,
   "id": "17edf5fd",
   "metadata": {},
   "outputs": [
    {
     "name": "stdout",
     "output_type": "stream",
     "text": [
      "[[1 1 0]\n",
      " [1 1 1]\n",
      " [1 1 0]]\n",
      "\n",
      "Covariance Matrix between Columns (COVCOL):\n",
      "      Col1  Col2      Col3\n",
      "Col1   0.0   0.0  0.000000\n",
      "Col2   0.0   0.0  0.000000\n",
      "Col3   0.0   0.0  0.333333\n",
      "\n",
      "Eigenvalues:\n",
      "[ 2.41421356e+00 -5.17355866e-16 -4.14213562e-01]\n",
      "\n",
      "Eigenvectors (columns correspond to eigenvalues):\n",
      "      Eigenvec1     Eigenvec2  Eigenvec3\n",
      "Col1  -0.500000 -7.071068e-01   0.500000\n",
      "Col2  -0.707107  7.071068e-01  -0.707107\n",
      "Col3  -0.500000 -3.294760e-16   0.500000\n"
     ]
    }
   ],
   "source": [
    "COVCOL = np.cov(A1[:,:-1], rowvar=False, bias=False)\n",
    "\n",
    "print(A1[:,:-1])\n",
    "\n",
    "print(\"\\nCovariance Matrix between Columns (COVCOL):\")\n",
    "print(pd.DataFrame(COVCOL, index=[f'Col{i+1}' for i in range(COVCOL.shape[0])],\n",
    "                         columns=[f'Col{j+1}' for j in range(COVCOL.shape[1])]))\n",
    "\n",
    "eigenvalues_col, eigenvectors_col = np.linalg.eig(A1[:,:-1])\n",
    "sorted_indices_col = np.argsort(eigenvalues_col)[::-1]\n",
    "eigenvalues_col = eigenvalues_col[sorted_indices_col]\n",
    "\n",
    "# print the eigenvalues and eigenvectors\n",
    "print(\"\\nEigenvalues:\")\n",
    "print(eigenvalues_col)\n",
    "\n",
    "print(\"\\nEigenvectors (columns correspond to eigenvalues):\")\n",
    "print(pd.DataFrame(eigenvectors_col, index=[f'Col{i+1}' for i in range(eigenvectors_col.shape[0])],\n",
    "                       columns=[f'Eigenvec{j+1}' for j in range(eigenvectors_col.shape[1])]))"
   ]
  },
  {
   "cell_type": "code",
   "execution_count": 50,
   "id": "53e012ba",
   "metadata": {},
   "outputs": [
    {
     "name": "stdout",
     "output_type": "stream",
     "text": [
      "Filas base seleccionadas (índices comenzando en 0): [0, 1]\n",
      "Filas base:\n",
      "Fila 1: [2. 1. 0.]\n",
      "Fila 2: [2. 1. 1.]\n",
      "\n",
      "Expresiones como combinaciones lineales de las filas base:\n",
      "Fila 1 = 1.00 * Fila 1\n",
      "Fila 2 = 1.00 * Fila 2\n",
      "Fila 3 = 2.00 * Fila 1\n",
      "Fila 4 = 1.00 * Fila 1 + 2.00 * Fila 2\n",
      "Fila 5 = -1.00 * Fila 1 + 1.00 * Fila 2\n",
      "Fila 6 = 1.00 * Fila 1\n"
     ]
    }
   ],
   "source": [
    "# Definir la matriz A con las filas adicionales\n",
    "A = np.array([\n",
    "    [2, 1, 0],\n",
    "    [2, 1, 1],\n",
    "    [4, 2, 0],\n",
    "    [6, 3, 2],\n",
    "    [0, 0, 1],\n",
    "    [2, 1.000001, 0]\n",
    "], dtype=float)\n",
    " \n",
    "# Definir la tolerancia\n",
    "TOLERANCIA = 1e-2\n",
    " \n",
    "# Función para determinar las filas base con tolerancia\n",
    "def obtener_filas_base(matriz, tolerancia):\n",
    "    filas_base = []\n",
    "    indices_base = []\n",
    "    for i, fila in enumerate(matriz):\n",
    "        if len(filas_base) == 0:\n",
    "            filas_base.append(fila)\n",
    "            indices_base.append(i)\n",
    "        else:\n",
    "            # Crear una matriz con las filas base actuales como columnas\n",
    "            base_matrix = np.vstack(filas_base).T  # Cada columna es una fila base\n",
    "            try:\n",
    "                # Resolver el sistema base_matrix * coef = fila\n",
    "                coeficientes, residuals, rango, _ = np.linalg.lstsq(base_matrix, fila, rcond=None)\n",
    "                if residuals.size > 0:\n",
    "                    residual_norm = np.sqrt(residuals[0])\n",
    "                else:\n",
    "                    # Calcular la norma del residual manualmente si residuals está vacío\n",
    "                    residual = fila - base_matrix @ coeficientes\n",
    "                    residual_norm = np.linalg.norm(residual)\n",
    "                # Si la norma del residual es mayor que la tolerancia, agregar la fila a la base\n",
    "                if residual_norm > tolerancia:\n",
    "                    filas_base.append(fila)\n",
    "                    indices_base.append(i)\n",
    "            except np.linalg.LinAlgError:\n",
    "                filas_base.append(fila)\n",
    "                indices_base.append(i)\n",
    "    return filas_base, indices_base\n",
    " \n",
    "# Obtener las filas base y sus índices\n",
    "filas_base, indices_base = obtener_filas_base(A, TOLERANCIA)\n",
    " \n",
    "print(\"Filas base seleccionadas (índices comenzando en 0):\", indices_base)\n",
    "print(\"Filas base:\")\n",
    "for i, fila in zip(indices_base, filas_base):\n",
    "    print(f\"Fila {i+1}: {fila}\")\n",
    " \n",
    "# Función para expresar cada fila como combinación lineal de las filas base\n",
    "def expresar_combinaciones(matriz, filas_base):\n",
    "    base_matrix = np.vstack(filas_base).T  # Cada columna es una fila base\n",
    "    combinaciones = []\n",
    "    for i, fila in enumerate(matriz):\n",
    "        # Resolver base_matrix * coef = fila\n",
    "        coeficientes, residuals, rango, _ = np.linalg.lstsq(base_matrix, fila, rcond=None)\n",
    "        combinaciones.append(coeficientes)\n",
    "    return combinaciones\n",
    " \n",
    "# Obtener las combinaciones lineales\n",
    "combinaciones = expresar_combinaciones(A, filas_base)\n",
    " \n",
    "print(\"\\nExpresiones como combinaciones lineales de las filas base:\")\n",
    "for i, coef in enumerate(combinaciones):\n",
    "    expresion = f\"Fila {i+1} = \"\n",
    "    terminos = []\n",
    "    for j, c in enumerate(coef):\n",
    "        if abs(c) > 1e-10:  # Ignorar coeficientes cercanos a cero\n",
    "            terminos.append(f\"{c:.2f} * Fila {indices_base[j]+1}\")\n",
    "    expresion += \" + \".join(terminos) if terminos else \"0\"\n",
    "    print(expresion)"
   ]
  },
  {
   "cell_type": "markdown",
   "id": "91d77a79",
   "metadata": {},
   "source": [
    "Orthogonality and orthonomal?"
   ]
  },
  {
   "cell_type": "code",
   "execution_count": 11,
   "id": "fa341056",
   "metadata": {},
   "outputs": [
    {
     "name": "stdout",
     "output_type": "stream",
     "text": [
      "\n",
      "Norm of the eigenvectors:\n",
      "[1. 1. 1.]\n",
      "\n",
      "Comprobation of the orthogonality of the eigenvectors:\n",
      "\n",
      "Orthogonality Check (Eigenvectors^T * Eigenvectors):\n",
      "              Eigenvec1     Eigenvec2     Eigenvec3\n",
      "Eigenvec1  1.000000e+00 -1.978992e-16 -4.231822e-17\n",
      "Eigenvec2 -1.978992e-16  1.000000e+00 -2.923882e-16\n",
      "Eigenvec3 -4.231822e-17 -2.923882e-16  1.000000e+00\n",
      "\n",
      "Are the eigenvectors orthogonal?  True\n"
     ]
    }
   ],
   "source": [
    "norms = np.linalg.norm(eigenvectors_col, axis=0)\n",
    "print(\"\\nNorm of the eigenvectors:\")\n",
    "print(norms)\n",
    "\n",
    "# Comprobation of the orthogonality of the eigenvectors\n",
    "print(\"\\nComprobation of the orthogonality of the eigenvectors:\")\n",
    "orthogonality_matrix = np.dot(eigenvectors_col.T, eigenvectors_col)\n",
    "\n",
    "print(\"\\nOrthogonality Check (Eigenvectors^T * Eigenvectors):\")\n",
    "print(pd.DataFrame(orthogonality_matrix, \n",
    "                  index=[f'Eigenvec{j+1}' for j in range(eigenvectors_col.shape[1])],\n",
    "                  columns=[f'Eigenvec{j+1}' for j in range(eigenvectors_col.shape[1])]))\n",
    "\n",
    "# Check if orthogonality_matrix is approximately an identity matrix\n",
    "is_orthogonal = np.allclose(orthogonality_matrix, np.identity(eigenvectors_col.shape[1]))\n",
    "print(\"\\nAre the eigenvectors orthogonal? \", is_orthogonal)"
   ]
  },
  {
   "cell_type": "code",
   "execution_count": 12,
   "id": "47f34bbf",
   "metadata": {},
   "outputs": [
    {
     "name": "stdout",
     "output_type": "stream",
     "text": [
      "\n",
      "Eigenvalues and Explained Variance:\n",
      "  Componente Principal  Eigenvalor  Varianza Explicada  Varianza Acumulada\n",
      "0                  PC1    2.185665            0.945975            0.945975\n",
      "1                  PC2    0.111093            0.048082            0.994057\n",
      "2                  PC3    0.013731            0.005943            1.000000\n"
     ]
    }
   ],
   "source": [
    "explained_variance_col = eigenvalues_col / eigenvalues_col.sum()\n",
    "cumulative_explained_variance_col = np.cumsum(explained_variance_col)\n",
    "\n",
    "variance_df_col = pd.DataFrame({\n",
    "    'Componente Principal': [f'PC{i+1}' for i in range(len(eigenvalues_col))],\n",
    "    'Eigenvalor':   eigenvalues_col,\n",
    "    'Varianza Explicada': explained_variance_col,\n",
    "    'Varianza Acumulada': cumulative_explained_variance_col\n",
    "})\n",
    "print(\"\\nEigenvalues and Explained Variance:\")\n",
    "print(variance_df_col)"
   ]
  },
  {
   "cell_type": "code",
   "execution_count": 13,
   "id": "99c68f44",
   "metadata": {},
   "outputs": [
    {
     "data": {
      "image/png": "[encoded data removed]",
      "text/plain": [
       "<Figure size 800x500 with 1 Axes>"
      ]
     },
     "metadata": {},
     "output_type": "display_data"
    }
   ],
   "source": [
    "plt.figure(figsize=(8, 5))\n",
    "plt.plot(range(1, len(cumulative_explained_variance_col)+1), cumulative_explained_variance_col, marker='o', linestyle='--', color='b')\n",
    "plt.title('Varianza Acumulada por Componentes Principales')\n",
    "plt.xlabel('Número de Componentes Principales')\n",
    "plt.ylabel('Varianza Acumulada')\n",
    "plt.xticks(range(1, len(cumulative_explained_variance_col)+1))\n",
    "plt.ylim(0, 1.05)\n",
    "plt.grid(True)\n",
    "plt.show()"
   ]
  },
  {
   "cell_type": "code",
   "execution_count": 14,
   "id": "c9425dc9",
   "metadata": {},
   "outputs": [
    {
     "name": "stdout",
     "output_type": "stream",
     "text": [
      "\n",
      "--- Comparison between U (from SVD) and Eigenvectors of COVROW ---\n",
      "U column 1 is Different to Eigenvector 1 of COVROW.\n",
      "U column 2 is Different to Eigenvector 2 of COVROW.\n",
      "U column 3 is Different to Eigenvector 3 of COVROW.\n",
      "U column 4 is Different to Eigenvector 4 of COVROW.\n",
      "U column 5 is Different to Eigenvector 5 of COVROW.\n",
      "\n",
      "--- Comparison between V (from SVD) and Eigenvectors of COVCOL ---\n"
     ]
    },
    {
     "ename": "ValueError",
     "evalue": "operands could not be broadcast together with shapes (4,) (3,) ",
     "output_type": "error",
     "traceback": [
      "\u001b[0;31m---------------------------------------------------------------------------\u001b[0m",
      "\u001b[0;31mValueError\u001b[0m                                Traceback (most recent call last)",
      "Cell \u001b[0;32mIn[14], line 41\u001b[0m\n\u001b[1;32m     39\u001b[0m \u001b[38;5;28mprint\u001b[39m(\u001b[38;5;124m\"\u001b[39m\u001b[38;5;130;01m\\n\u001b[39;00m\u001b[38;5;124m--- Comparison between V (from SVD) and Eigenvectors of COVCOL ---\u001b[39m\u001b[38;5;124m\"\u001b[39m)\n\u001b[1;32m     40\u001b[0m V \u001b[38;5;241m=\u001b[39m Vt\u001b[38;5;241m.\u001b[39mT  \u001b[38;5;66;03m# V from SVD is the transpose of Vt\u001b[39;00m\n\u001b[0;32m---> 41\u001b[0m comparison_V \u001b[38;5;241m=\u001b[39m \u001b[43mcompare_eigenvectors\u001b[49m\u001b[43m(\u001b[49m\u001b[43mV\u001b[49m\u001b[43m,\u001b[49m\u001b[43m \u001b[49m\u001b[43meigenvectors_col\u001b[49m\u001b[43m)\u001b[49m\n\u001b[1;32m     42\u001b[0m \u001b[38;5;28;01mfor\u001b[39;00m idx, status \u001b[38;5;129;01min\u001b[39;00m comparison_V:\n\u001b[1;32m     43\u001b[0m     \u001b[38;5;28mprint\u001b[39m(\u001b[38;5;124mf\u001b[39m\u001b[38;5;124m\"\u001b[39m\u001b[38;5;124mV column \u001b[39m\u001b[38;5;132;01m{\u001b[39;00midx\u001b[38;5;132;01m}\u001b[39;00m\u001b[38;5;124m is \u001b[39m\u001b[38;5;132;01m{\u001b[39;00mstatus\u001b[38;5;132;01m}\u001b[39;00m\u001b[38;5;124m to Eigenvector \u001b[39m\u001b[38;5;132;01m{\u001b[39;00midx\u001b[38;5;132;01m}\u001b[39;00m\u001b[38;5;124m of COVCOL.\u001b[39m\u001b[38;5;124m\"\u001b[39m)\n",
      "Cell \u001b[0;32mIn[14], line 24\u001b[0m, in \u001b[0;36mcompare_eigenvectors\u001b[0;34m(matrix1, matrix2, tolerance)\u001b[0m\n\u001b[1;32m     21\u001b[0m vec2_norm \u001b[38;5;241m=\u001b[39m vec2 \u001b[38;5;241m/\u001b[39m np\u001b[38;5;241m.\u001b[39mlinalg\u001b[38;5;241m.\u001b[39mnorm(vec2)\n\u001b[1;32m     23\u001b[0m \u001b[38;5;66;03m# Check if vectors are the same or negatives\u001b[39;00m\n\u001b[0;32m---> 24\u001b[0m \u001b[38;5;28;01mif\u001b[39;00m \u001b[43mnp\u001b[49m\u001b[38;5;241;43m.\u001b[39;49m\u001b[43mallclose\u001b[49m\u001b[43m(\u001b[49m\u001b[43mvec1_norm\u001b[49m\u001b[43m,\u001b[49m\u001b[43m \u001b[49m\u001b[43mvec2_norm\u001b[49m\u001b[43m,\u001b[49m\u001b[43m \u001b[49m\u001b[43matol\u001b[49m\u001b[38;5;241;43m=\u001b[39;49m\u001b[43mtolerance\u001b[49m\u001b[43m)\u001b[49m:\n\u001b[1;32m     25\u001b[0m     matches\u001b[38;5;241m.\u001b[39mappend((i\u001b[38;5;241m+\u001b[39m\u001b[38;5;241m1\u001b[39m, \u001b[38;5;124m\"\u001b[39m\u001b[38;5;124mSame\u001b[39m\u001b[38;5;124m\"\u001b[39m))\n\u001b[1;32m     26\u001b[0m \u001b[38;5;28;01melif\u001b[39;00m np\u001b[38;5;241m.\u001b[39mallclose(vec1_norm, \u001b[38;5;241m-\u001b[39mvec2_norm, atol\u001b[38;5;241m=\u001b[39mtolerance):\n",
      "File \u001b[0;32m<__array_function__ internals>:200\u001b[0m, in \u001b[0;36mallclose\u001b[0;34m(*args, **kwargs)\u001b[0m\n",
      "File \u001b[0;32m~/miniconda3/envs/ioptimization/lib/python3.8/site-packages/numpy/core/numeric.py:2270\u001b[0m, in \u001b[0;36mallclose\u001b[0;34m(a, b, rtol, atol, equal_nan)\u001b[0m\n\u001b[1;32m   2199\u001b[0m \u001b[38;5;129m@array_function_dispatch\u001b[39m(_allclose_dispatcher)\n\u001b[1;32m   2200\u001b[0m \u001b[38;5;28;01mdef\u001b[39;00m \u001b[38;5;21mallclose\u001b[39m(a, b, rtol\u001b[38;5;241m=\u001b[39m\u001b[38;5;241m1.e-5\u001b[39m, atol\u001b[38;5;241m=\u001b[39m\u001b[38;5;241m1.e-8\u001b[39m, equal_nan\u001b[38;5;241m=\u001b[39m\u001b[38;5;28;01mFalse\u001b[39;00m):\n\u001b[1;32m   2201\u001b[0m \u001b[38;5;250m    \u001b[39m\u001b[38;5;124;03m\"\"\"\u001b[39;00m\n\u001b[1;32m   2202\u001b[0m \u001b[38;5;124;03m    Returns True if two arrays are element-wise equal within a tolerance.\u001b[39;00m\n\u001b[1;32m   2203\u001b[0m \n\u001b[0;32m   (...)\u001b[0m\n\u001b[1;32m   2268\u001b[0m \n\u001b[1;32m   2269\u001b[0m \u001b[38;5;124;03m    \"\"\"\u001b[39;00m\n\u001b[0;32m-> 2270\u001b[0m     res \u001b[38;5;241m=\u001b[39m \u001b[38;5;28mall\u001b[39m(\u001b[43misclose\u001b[49m\u001b[43m(\u001b[49m\u001b[43ma\u001b[49m\u001b[43m,\u001b[49m\u001b[43m \u001b[49m\u001b[43mb\u001b[49m\u001b[43m,\u001b[49m\u001b[43m \u001b[49m\u001b[43mrtol\u001b[49m\u001b[38;5;241;43m=\u001b[39;49m\u001b[43mrtol\u001b[49m\u001b[43m,\u001b[49m\u001b[43m \u001b[49m\u001b[43matol\u001b[49m\u001b[38;5;241;43m=\u001b[39;49m\u001b[43matol\u001b[49m\u001b[43m,\u001b[49m\u001b[43m \u001b[49m\u001b[43mequal_nan\u001b[49m\u001b[38;5;241;43m=\u001b[39;49m\u001b[43mequal_nan\u001b[49m\u001b[43m)\u001b[49m)\n\u001b[1;32m   2271\u001b[0m     \u001b[38;5;28;01mreturn\u001b[39;00m \u001b[38;5;28mbool\u001b[39m(res)\n",
      "File \u001b[0;32m<__array_function__ internals>:200\u001b[0m, in \u001b[0;36misclose\u001b[0;34m(*args, **kwargs)\u001b[0m\n",
      "File \u001b[0;32m~/miniconda3/envs/ioptimization/lib/python3.8/site-packages/numpy/core/numeric.py:2380\u001b[0m, in \u001b[0;36misclose\u001b[0;34m(a, b, rtol, atol, equal_nan)\u001b[0m\n\u001b[1;32m   2378\u001b[0m yfin \u001b[38;5;241m=\u001b[39m isfinite(y)\n\u001b[1;32m   2379\u001b[0m \u001b[38;5;28;01mif\u001b[39;00m \u001b[38;5;28mall\u001b[39m(xfin) \u001b[38;5;129;01mand\u001b[39;00m \u001b[38;5;28mall\u001b[39m(yfin):\n\u001b[0;32m-> 2380\u001b[0m     \u001b[38;5;28;01mreturn\u001b[39;00m \u001b[43mwithin_tol\u001b[49m\u001b[43m(\u001b[49m\u001b[43mx\u001b[49m\u001b[43m,\u001b[49m\u001b[43m \u001b[49m\u001b[43my\u001b[49m\u001b[43m,\u001b[49m\u001b[43m \u001b[49m\u001b[43matol\u001b[49m\u001b[43m,\u001b[49m\u001b[43m \u001b[49m\u001b[43mrtol\u001b[49m\u001b[43m)\u001b[49m\n\u001b[1;32m   2381\u001b[0m \u001b[38;5;28;01melse\u001b[39;00m:\n\u001b[1;32m   2382\u001b[0m     finite \u001b[38;5;241m=\u001b[39m xfin \u001b[38;5;241m&\u001b[39m yfin\n",
      "File \u001b[0;32m~/miniconda3/envs/ioptimization/lib/python3.8/site-packages/numpy/core/numeric.py:2361\u001b[0m, in \u001b[0;36misclose.<locals>.within_tol\u001b[0;34m(x, y, atol, rtol)\u001b[0m\n\u001b[1;32m   2359\u001b[0m \u001b[38;5;28;01mdef\u001b[39;00m \u001b[38;5;21mwithin_tol\u001b[39m(x, y, atol, rtol):\n\u001b[1;32m   2360\u001b[0m     \u001b[38;5;28;01mwith\u001b[39;00m errstate(invalid\u001b[38;5;241m=\u001b[39m\u001b[38;5;124m'\u001b[39m\u001b[38;5;124mignore\u001b[39m\u001b[38;5;124m'\u001b[39m), _no_nep50_warning():\n\u001b[0;32m-> 2361\u001b[0m         \u001b[38;5;28;01mreturn\u001b[39;00m less_equal(\u001b[38;5;28mabs\u001b[39m(\u001b[43mx\u001b[49m\u001b[38;5;241;43m-\u001b[39;49m\u001b[43my\u001b[49m), atol \u001b[38;5;241m+\u001b[39m rtol \u001b[38;5;241m*\u001b[39m \u001b[38;5;28mabs\u001b[39m(y))\n",
      "\u001b[0;31mValueError\u001b[0m: operands could not be broadcast together with shapes (4,) (3,) "
     ]
    }
   ],
   "source": [
    "def compare_eigenvectors(matrix1, matrix2, tolerance=1e-6):\n",
    "    \"\"\"\n",
    "    Compare two matrices of eigenvectors up to sign.\n",
    "    \n",
    "    Parameters:\n",
    "    - matrix1: First matrix (numpy.ndarray), shape (n, m)\n",
    "    - matrix2: Second matrix (numpy.ndarray), shape (n, m)\n",
    "    - tolerance: Tolerance for comparison\n",
    "    \n",
    "    Returns:\n",
    "    - List of tuples indicating if each pair matches (with possible sign flip)\n",
    "    \"\"\"\n",
    "    n, m = matrix1.shape\n",
    "    matches = []\n",
    "    for i in range(m):\n",
    "        vec1 = matrix1[:, i]\n",
    "        vec2 = matrix2[:, i]\n",
    "        \n",
    "        # Normalize vectors to ensure unit length\n",
    "        vec1_norm = vec1 / np.linalg.norm(vec1)\n",
    "        vec2_norm = vec2 / np.linalg.norm(vec2)\n",
    "        \n",
    "        # Check if vectors are the same or negatives\n",
    "        if np.allclose(vec1_norm, vec2_norm, atol=tolerance):\n",
    "            matches.append((i+1, \"Same\"))\n",
    "        elif np.allclose(vec1_norm, -vec2_norm, atol=tolerance):\n",
    "            matches.append((i+1, \"Opposite\"))\n",
    "        else:\n",
    "            matches.append((i+1, \"Different\"))\n",
    "    return matches\n",
    "\n",
    "# 9. Check if U from SVD is the same as eigenvectors of COVROW\n",
    "print(\"\\n--- Comparison between U (from SVD) and Eigenvectors of COVROW ---\")\n",
    "comparison_U = compare_eigenvectors(U, eigenvectors_row)\n",
    "for idx, status in comparison_U:\n",
    "    print(f\"U column {idx} is {status} to Eigenvector {idx} of COVROW.\")\n",
    "\n",
    "# 10. Check if V from SVD is the same as eigenvectors of COVCOL\n",
    "print(\"\\n--- Comparison between V (from SVD) and Eigenvectors of COVCOL ---\")\n",
    "V = Vt.T  # V from SVD is the transpose of Vt\n",
    "comparison_V = compare_eigenvectors(V, eigenvectors_col)\n",
    "for idx, status in comparison_V:\n",
    "    print(f\"V column {idx} is {status} to Eigenvector {idx} of COVCOL.\")"
   ]
  },
  {
   "cell_type": "code",
   "execution_count": 39,
   "id": "5ba66876",
   "metadata": {},
   "outputs": [
    {
     "name": "stdout",
     "output_type": "stream",
     "text": [
      "(5, 4)\n",
      "Row-wise covariance matrix using np.cov:\n",
      "[[ 1.49752    0.9381055 -0.3745     0.50025  ]\n",
      " [ 0.9381055  0.6129692 -0.21305    0.3621   ]\n",
      " [-0.3745    -0.21305    0.2       -0.025    ]\n",
      " [ 0.50025    0.3621    -0.025      0.3      ]]\n",
      "\n",
      "Row-wise covariance matrix reconstructed from SVD:\n",
      "[[ 0.06933305  2.38094304  0.37450401 -0.41584532]\n",
      " [ 1.21330595  0.75669835 -2.47088631  0.6292672 ]\n",
      " [ 1.82538536  0.33261829 -0.6324383   0.2231304 ]\n",
      " [-0.38484334  1.58917248  0.60300979  0.59023242]\n",
      " [-1.07522448 -0.16394468  1.22243212  1.18902763]]\n"
     ]
    }
   ],
   "source": [
    "import numpy as np\n",
    "# Step 1: Center the rows of A\n",
    "A_centered = A - A.mean(axis=1, keepdims=True)\n",
    "\n",
    "print(A_centered.shape)\n",
    "\n",
    "# Step 2: Compute covariance matrix using np.cov\n",
    "row_cov_np = np.cov(A, rowvar=False)\n",
    "\n",
    "# Step 3: Perform SVD\n",
    "U_n, S_n, VT_n = np.linalg.svd(A_centered)\n",
    "Sigma_n = np.zeros((U_n.shape[1], VT_n.shape[0])) /A_centered.shape[1]-1\n",
    "np.fill_diagonal(Sigma_n, S_n)\n",
    "\n",
    "# Step 4: Reconstruct the covariance matrix from SVD\n",
    "row_cov_svd = (U_n @ Sigma_n @ VT_n)\n",
    "\n",
    "print(\"Row-wise covariance matrix using np.cov:\")\n",
    "print(row_cov_np)\n",
    "\n",
    "print(\"\\nRow-wise covariance matrix reconstructed from SVD:\")\n",
    "print(row_cov_svd)\n"
   ]
  },
  {
   "cell_type": "code",
   "execution_count": 155,
   "id": "6e7ae06f",
   "metadata": {},
   "outputs": [
    {
     "name": "stdout",
     "output_type": "stream",
     "text": [
      "\n",
      "Variance of the first row of A2: 0.6666666666666666\n",
      "Covariance between the first and second row of A2: [[0.66666667 1.        ]\n",
      " [1.         1.58333333]]\n"
     ]
    }
   ],
   "source": [
    "# Take te first row of A2 matrix\n",
    "row = A2[0,:]\n",
    "row2 = A2[1,:]\n",
    "# calculate the variance of the row\n",
    "variance = np.var(row, ddof=1)\n",
    "print(f\"\\nVariance of the first row of A2: {variance}\")\n",
    "# covariance between the first and second row\n",
    "covariance = np.cov(row, row2, bias=False)\n",
    "print(f\"Covariance between the first and second row of A2: {covariance}\")"
   ]
  },
  {
   "cell_type": "code",
   "execution_count": 156,
   "id": "710fa8c7",
   "metadata": {},
   "outputs": [
    {
     "name": "stdout",
     "output_type": "stream",
     "text": [
      "Matrix A:\n",
      "[[1.  1.  0.  0.  1.5]\n",
      " [1.  1.  0.  2.  0. ]\n",
      " [1.  1.  0.  0.  2. ]\n",
      " [1.  1.  2.  2.  2. ]]\n",
      "\n",
      "Matrix U:\n",
      "[[ 0.35757154  0.47036932  0.28143659  0.75610102]\n",
      " [ 0.36360358 -0.58385809  0.7217436  -0.07738439]\n",
      " [ 0.4210896   0.6003679   0.20399442 -0.64855856]\n",
      " [ 0.75007905 -0.27824597 -0.59855317  0.04116673]]\n",
      "\n",
      "Singular Values (S):\n",
      "[4.76029861 2.27850537 1.53924293 0.16941567]\n",
      "\n",
      "Matrix V^T:\n",
      "[[ 0.39752627  0.39752627  0.3151395   0.46790452  0.60472984]\n",
      " [ 0.0915658   0.0915658  -0.24423552 -0.75672769  0.59240495]\n",
      " [ 0.39540311  0.39540311 -0.77772411  0.16006626 -0.23840462]\n",
      " [ 0.42100469  0.42100469  0.48598489 -0.42755976 -0.47594268]]\n",
      "\n",
      "Reconstructed Matrix A:\n",
      "[[ 1.00000000e+00  1.00000000e+00  1.13974622e-16  1.84822447e-17\n",
      "   1.50000000e+00]\n",
      " [ 1.00000000e+00  1.00000000e+00 -4.63172550e-16  2.00000000e+00\n",
      "  -3.95377742e-16]\n",
      " [ 1.00000000e+00  1.00000000e+00  9.35899009e-18 -4.87938674e-16\n",
      "   2.00000000e+00]\n",
      " [ 1.00000000e+00  1.00000000e+00  2.00000000e+00  2.00000000e+00\n",
      "   2.00000000e+00]]\n",
      "\n",
      "Reconstruction Error (Frobenius Norm):\n",
      "2.6284199163800544e-15\n"
     ]
    },
    {
     "data": {
      "image/png": "[encoded data removed]",
      "text/plain": [
       "<Figure size 800x600 with 1 Axes>"
      ]
     },
     "metadata": {},
     "output_type": "display_data"
    },
    {
     "data": {
      "image/png": "[encoded data removed]",
      "text/plain": [
       "<Figure size 800x600 with 1 Axes>"
      ]
     },
     "metadata": {},
     "output_type": "display_data"
    }
   ],
   "source": [
    "\n",
    " \n",
    "# 1. Define matrix A\n",
    "A = np.array([\n",
    "    [1, 1, 0, 0, 1.5],\n",
    "    [1, 1, 0, 2, 0],\n",
    "    [1, 1, 0, 0, 2],\n",
    "    [1, 1, 2, 2, 2]\n",
    "])\n",
    " \n",
    "print(\"Matrix A:\")\n",
    "print(A)\n",
    "\n",
    "A_extended = A\n",
    " \n",
    "# 2. Perform SVD\n",
    "U, S, Vt = np.linalg.svd(A_extended, full_matrices=False)\n",
    " \n",
    "print(\"\\nMatrix U:\")\n",
    "print(U)\n",
    " \n",
    "print(\"\\nSingular Values (S):\")\n",
    "print(S)\n",
    " \n",
    "print(\"\\nMatrix V^T:\")\n",
    "print(Vt)\n",
    " \n",
    "# 3. Reconstruct matrix A\n",
    "Sigma = np.diag(S)\n",
    "A_reconstructed = np.dot(U, np.dot(Sigma, Vt))\n",
    " \n",
    "print(\"\\nReconstructed Matrix A:\")\n",
    "print(A_reconstructed)\n",
    " \n",
    "# 4. Calculate reconstruction error\n",
    "reconstruction_error = np.linalg.norm(A - A_reconstructed, ord='fro')\n",
    "print(\"\\nReconstruction Error (Frobenius Norm):\")\n",
    "print(reconstruction_error)\n",
    " \n",
    "# 5. Plot singular values\n",
    "plt.figure(figsize=(8, 6))\n",
    "plt.plot(range(1, len(S)+1), S, 'o-', linewidth=2, color='blue')\n",
    "plt.title('Singular Values of Matrix A')\n",
    "plt.xlabel('Index')\n",
    "plt.ylabel('Singular Value')\n",
    "plt.grid(True)\n",
    "plt.xticks(range(1, len(S)+1))\n",
    "plt.show()\n",
    " \n",
    "# 6. Plot Scree Plot\n",
    "explained_variance_ratio = (S ** 2) / np.sum(S ** 2)\n",
    " \n",
    "plt.figure(figsize=(8, 6))\n",
    "plt.bar(range(1, len(S)+1), explained_variance_ratio, alpha=0.7, color='green', label='Individual Explained Variance')\n",
    "plt.plot(range(1, len(S)+1), np.cumsum(explained_variance_ratio), marker='o', color='red', label='Cumulative Explained Variance')\n",
    "plt.title('Scree Plot')\n",
    "plt.xlabel('Singular Value Index')\n",
    "plt.ylabel('Explained Variance Ratio')\n",
    "plt.xticks(range(1, len(S)+1))\n",
    "plt.legend(loc='best')\n",
    "plt.grid(True)\n",
    "plt.show()\n"
   ]
  }
 ],
 "metadata": {
  "kernelspec": {
   "display_name": "ioptimization",
   "language": "python",
   "name": "python3"
  },
  "language_info": {
   "codemirror_mode": {
    "name": "ipython",
    "version": 3
   },
   "file_extension": ".py",
   "mimetype": "text/x-python",
   "name": "python",
   "nbconvert_exporter": "python",
   "pygments_lexer": "ipython3",
   "version": "3.8.19"
  }
 },
 "nbformat": 4,
 "nbformat_minor": 5
}
