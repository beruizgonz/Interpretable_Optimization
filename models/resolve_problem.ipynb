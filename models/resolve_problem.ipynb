{
 "cells": [
  {
   "cell_type": "code",
   "execution_count": 1,
   "metadata": {},
   "outputs": [],
   "source": [
    "import gurobipy as gp\n",
    "from gurobipy import GRB\n",
    "import numpy as np\n",
    "import pandas as pd\n",
    "import os \n",
    "\n",
    "from utils_models.utils_functions import canonical_form, normalize_features, get_model_matrices"
   ]
  },
  {
   "cell_type": "code",
   "execution_count": 2,
   "metadata": {},
   "outputs": [
    {
     "data": {
      "text/plain": [
       "True"
      ]
     },
     "execution_count": 2,
     "metadata": {},
     "output_type": "execute_result"
    }
   ],
   "source": [
    "project_root = os.path.dirname(os.getcwd())\n",
    "problem = os.path.join(project_root, 'data/GAMS_library', 'AIRSP.mps')\n",
    "os.path.exists(problem)"
   ]
  },
  {
   "cell_type": "code",
   "execution_count": 3,
   "metadata": {},
   "outputs": [
    {
     "name": "stdout",
     "output_type": "stream",
     "text": [
      "Set parameter Username\n",
      "Academic license - for non-commercial use only - expires 2025-09-11\n",
      "Read MPS format model from file /home/brgonzalez/Escritorio/TESIS/Code/Interpretable_Optimization/data/GAMS_library/AIRSP.mps\n",
      "Reading time = 0.00 seconds\n",
      "Convert: 36 rows, 49 columns, 129 nonzeros\n",
      "<class 'gurobipy.Model'>\n",
      "Gurobi Optimizer version 11.0.3 build v11.0.3rc0 (linux64 - \"Ubuntu 22.04.3 LTS\")\n",
      "\n",
      "CPU model: 13th Gen Intel(R) Core(TM) i9-13900K, instruction set [SSE2|AVX|AVX2]\n",
      "Thread count: 32 physical cores, 32 logical processors, using up to 32 threads\n",
      "\n",
      "Optimize a model with 43 rows, 51 columns and 197 nonzeros\n",
      "Model fingerprint: 0xcf428e73\n",
      "Coefficient statistics:\n",
      "  Matrix range     [1e-01, 8e+01]\n",
      "  Objective range  [1e+00, 1e+00]\n",
      "  Bounds range     [0e+00, 0e+00]\n",
      "  RHS range        [1e+01, 6e+02]\n",
      "Presolve removed 19 rows and 14 columns\n",
      "Presolve time: 0.00s\n",
      "Presolved: 24 rows, 37 columns, 102 nonzeros\n",
      "\n",
      "Iteration    Objective       Primal Inf.    Dual Inf.      Time\n",
      "       0    3.4486615e+02   1.318648e+02   0.000000e+00      0s\n",
      "      22    1.5660422e+03   0.000000e+00   0.000000e+00      0s\n",
      "\n",
      "Solved in 22 iterations and 0.00 seconds (0.00 work units)\n",
      "Optimal objective  1.566042189e+03\n"
     ]
    }
   ],
   "source": [
    "model = gp.read(problem)\n",
    "original_primal, track_elements = canonical_form(model)\n",
    "print(type(original_primal))\n",
    "original_primal.optimize()"
   ]
  },
  {
   "cell_type": "code",
   "execution_count": 4,
   "metadata": {},
   "outputs": [
    {
     "name": "stdout",
     "output_type": "stream",
     "text": [
      "Optimization ended with status 1\n"
     ]
    }
   ],
   "source": [
    "if model.Status == GRB.OPTIMAL:\n",
    "    print('Optimal objective value:', model.ObjVal)\n",
    "    # Get the variable names and values\n",
    "    variables = model.getVars()\n",
    "    var_names = [v.VarName for v in variables]\n",
    "    var_values = model.getAttr('X', variables)\n",
    "    # Iterate over names and values using zip\n",
    "    for var_name, value in zip(var_names, var_values):\n",
    "        print(f'{var_name}: {value}')\n",
    "elif model.Status == GRB.INFEASIBLE:\n",
    "    print('Model is infeasible.')\n",
    "elif model.Status == GRB.UNBOUNDED:\n",
    "    print('Model is unbounded.')\n",
    "else:\n",
    "    print('Optimization ended with status %d' % model.Status)\n"
   ]
  },
  {
   "cell_type": "markdown",
   "metadata": {},
   "source": [
    "Resolve normalize"
   ]
  },
  {
   "cell_type": "code",
   "execution_count": 5,
   "metadata": {},
   "outputs": [],
   "source": [
    "def build_normalized_model(A_norm, b_norm, c, lb, ub, of_sense, cons_senses, var_names):\n",
    "    \"\"\"\n",
    "    Builds a Gurobi model using the normalized A and b, and original c, lb, ub.\n",
    "    \"\"\"\n",
    "    model = gp.Model()\n",
    "\n",
    "    # Set objective sense\n",
    "    model.ModelSense = of_sense  # 1 for minimization, -1 for maximization\n",
    "\n",
    "    # Add variables\n",
    "    num_vars = len(c)\n",
    "    variables = []\n",
    "    for i in range(num_vars):\n",
    "        var = model.addVar(lb=lb[i], ub=ub[i], obj=c[i], name=var_names[i])\n",
    "        variables.append(var)\n",
    "    model.update()\n",
    "\n",
    "    # Add constraints\n",
    "    num_constrs = len(b_norm)\n",
    "    for i in range(num_constrs):\n",
    "        expr = gp.LinExpr()\n",
    "        for j in range(num_vars):\n",
    "            if A_norm[i, j] != 0:\n",
    "                expr.add(variables[j], A_norm[i, j])\n",
    "        sense = cons_senses[i]\n",
    "        rhs = b_norm[i]\n",
    "        if sense == '<':\n",
    "            model.addConstr(expr <= rhs)\n",
    "        elif sense == '>':\n",
    "            model.addConstr(expr >= rhs)\n",
    "        elif sense == '=':\n",
    "            model.addConstr(expr == rhs)\n",
    "        else:\n",
    "            raise ValueError(f\"Unknown constraint sense: {sense}\")\n",
    "    model.update()\n",
    "\n",
    "    return model\n"
   ]
  },
  {
   "cell_type": "code",
   "execution_count": 6,
   "metadata": {},
   "outputs": [
    {
     "name": "stdout",
     "output_type": "stream",
     "text": [
      "Gurobi Optimizer version 11.0.3 build v11.0.3rc0 (linux64 - \"Ubuntu 22.04.3 LTS\")\n",
      "\n",
      "CPU model: 13th Gen Intel(R) Core(TM) i9-13900K, instruction set [SSE2|AVX|AVX2]\n",
      "Thread count: 32 physical cores, 32 logical processors, using up to 32 threads\n",
      "\n",
      "Optimize a model with 43 rows, 51 columns and 197 nonzeros\n",
      "Model fingerprint: 0x9ae832c4\n",
      "Coefficient statistics:\n",
      "  Matrix range     [1e-02, 1e+00]\n",
      "  Objective range  [1e+00, 1e+00]\n",
      "  Bounds range     [0e+00, 0e+00]\n",
      "  RHS range        [1e+01, 6e+02]\n",
      "Presolve removed 19 rows and 14 columns\n",
      "Presolve time: 0.00s\n",
      "Presolved: 24 rows, 37 columns, 102 nonzeros\n",
      "\n",
      "Iteration    Objective       Primal Inf.    Dual Inf.      Time\n",
      "       0    3.4486615e+02   1.318648e+02   0.000000e+00      0s\n",
      "      22    1.5660422e+03   0.000000e+00   0.000000e+00      0s\n",
      "\n",
      "Solved in 22 iterations and 0.00 seconds (0.00 work units)\n",
      "Optimal objective  1.566042189e+03\n",
      "Optimal objective value (normalized model): 1566.0421891327062\n",
      "x1: 10.0\n",
      "x2: 0.0\n",
      "x3: 0.0\n",
      "x4: 0.0\n",
      "x5: 0.0\n",
      "x6: 12.844827586206895\n",
      "x7: 0.8218390804597728\n",
      "x8: 5.333333333333333\n",
      "x9: 0.0\n",
      "x10: 4.31034482758621\n",
      "x11: 0.0\n",
      "x12: 20.689655172413794\n",
      "x13: 7.341170323928948\n",
      "x14: 0.0\n",
      "x15: 7.658829676071053\n",
      "x16: 0.0\n",
      "x17: 0.0\n",
      "x18: 226.07053291536053\n",
      "x19: 150.0\n",
      "x20: 180.0\n",
      "x21: 80.0\n",
      "x22: 600.0\n",
      "x23: 0.0\n",
      "x24: 0.0\n",
      "x25: 23.92946708463947\n",
      "x26: 43.92946708463947\n",
      "x27: 73.92946708463947\n",
      "x28: 0.0\n",
      "x29: 0.0\n",
      "x30: 0.0\n",
      "x31: 0.0\n",
      "x32: 0.0\n",
      "x33: 0.0\n",
      "x34: 0.0\n",
      "x35: 0.0\n",
      "x36: 20.0\n",
      "x37: 40.0\n",
      "x38: 0.0\n",
      "x39: 0.0\n",
      "x40: 0.0\n",
      "x41: 20.0\n",
      "x42: 260.0\n",
      "x43: 0.0\n",
      "x44: 0.0\n",
      "x45: 20.0\n",
      "x46: 0.0\n",
      "x47: 0.0\n",
      "x48_pos: 1566.0421891327062\n",
      "x48_neg: 0.0\n",
      "x49_pos: 882.7298850574713\n",
      "x49_neg: 0.0\n"
     ]
    }
   ],
   "source": [
    "A, b, c, co, lb, ub, of_sense, cons_senses, variables_names = get_model_matrices(original_primal)\n",
    "A_norm, b_norm, scalers = normalize_features(A, b) \n",
    "# Run the model with normalized features\n",
    "normalized_model = build_normalized_model(A_norm, b_norm, c, lb, ub, of_sense, cons_senses, variables_names)\n",
    "\n",
    "# Optimize the normalized model\n",
    "normalized_model.optimize()\n",
    "\n",
    "# Retrieve and print results\n",
    "if normalized_model.Status == GRB.OPTIMAL:\n",
    "    print('Optimal objective value (normalized model):', normalized_model.ObjVal)\n",
    "    solution = normalized_model.getAttr('X', normalized_model.getVars())\n",
    "    for var_name, value in zip(variables_names, solution):\n",
    "        print(f'{var_name}: {value}')\n",
    "else:\n",
    "    print('Optimization was not successful.')\n",
    "\n",
    "# # Optional: Compare with the original model\n",
    "# model.optimize()\n",
    "# if model.Status == GRB.OPTIMAL:\n",
    "#     print('Optimal objective value (original model):', model.ObjVal)\n",
    "# else:\n",
    "#     print('Original model optimization was not successful.')\n"
   ]
  }
 ],
 "metadata": {
  "kernelspec": {
   "display_name": "ioptimization",
   "language": "python",
   "name": "python3"
  },
  "language_info": {
   "codemirror_mode": {
    "name": "ipython",
    "version": 3
   },
   "file_extension": ".py",
   "mimetype": "text/x-python",
   "name": "python",
   "nbconvert_exporter": "python",
   "pygments_lexer": "ipython3",
   "version": "3.8.19"
  },
  "orig_nbformat": 4
 },
 "nbformat": 4,
 "nbformat_minor": 2
}
