{
 "cells": [
  {
   "cell_type": "code",
   "execution_count": 9,
   "metadata": {},
   "outputs": [],
   "source": [
    "import numpy as np\n",
    "from scipy.sparse import  issparse"
   ]
  },
  {
   "cell_type": "code",
   "execution_count": 10,
   "metadata": {},
   "outputs": [],
   "source": [
    "def detect_dependencies_via_rank(A, feasibility_tolerance=1e-8):\n",
    "    \"\"\"\n",
    "    Detects dependent rows by comparing the rank of the matrix with and without each row.\n",
    "\n",
    "    Parameters:\n",
    "    - A: numpy.ndarray, the matrix to analyze.\n",
    "    - feasibility_tolerance: float, threshold for rank determination.\n",
    "\n",
    "    Returns:\n",
    "    - dependent_rows: list of row indices that are linearly dependent.\n",
    "    \"\"\"\n",
    "    from numpy.linalg import matrix_rank\n",
    "\n",
    "    dependent_rows = []\n",
    "    full_rank = matrix_rank(A, tol=feasibility_tolerance)\n",
    "\n",
    "    for i in range(A.shape[0]):\n",
    "        A_reduced = np.delete(A, i, axis=0)\n",
    "        reduced_rank = matrix_rank(A_reduced, tol=feasibility_tolerance)\n",
    "\n",
    "        if reduced_rank == full_rank:\n",
    "            dependent_rows.append(i)\n",
    "\n",
    "    return dependent_rows\n"
   ]
  },
  {
   "cell_type": "code",
   "execution_count": 16,
   "metadata": {},
   "outputs": [],
   "source": [
    "A = np.array([[1, 2, 3],\n",
    "                [2, 4, 6],\n",
    "                [7, 8, 9],\n",
    "                [10, 11, 13]])\n"
   ]
  },
  {
   "cell_type": "code",
   "execution_count": 12,
   "metadata": {},
   "outputs": [
    {
     "data": {
      "text/plain": [
       "[0, 1, 2]"
      ]
     },
     "execution_count": 12,
     "metadata": {},
     "output_type": "execute_result"
    }
   ],
   "source": [
    "detect_dependencies_via_rank(A)"
   ]
  },
  {
   "cell_type": "code",
   "execution_count": 13,
   "metadata": {},
   "outputs": [],
   "source": [
    "\n",
    "def linear_dependency(A, b, feasibility_tolerance=0.01):\n",
    "    \"\"\"\n",
    "    This function checks for linear dependency among the rows of matrix A.\n",
    "\n",
    "    Linear dependency is checked through division of corresponding row elements.\n",
    "    If the division of any corresponding row elements across two rows has very little variation,\n",
    "    it indicates a row is linearly dependent on the other.\n",
    "\n",
    "    Parameters:\n",
    "    - A: numpy.ndarray or scipy sparse matrix, matrix of coefficients of the linear constraints.\n",
    "    - feasibility_tolerance: float, the tolerance limit under which two constrained row values\n",
    "                             are considered the same (indicating low variety, hence, dependence).\n",
    "\n",
    "    Returns:\n",
    "    - vector_index: list of tuple, the recorded pairs of indices of rows that were compared\n",
    "                    and found to have equal implications of each other's space.\n",
    "    - any_dependency: bool, True if there is at least one set of rows in A that are\n",
    "                      linearly dependent within the threshold; False otherwise.\n",
    "    \"\"\"\n",
    "\n",
    "    # Convert sparse matrix to dense if necessary.\n",
    "    if issparse(A):\n",
    "        A = A.toarray()\n",
    "\n",
    "    # Convert b to a column vector\n",
    "    b_column = np.array(b).reshape((-1, 1))\n",
    "\n",
    "    # Stack A and b_column horizontally\n",
    "    A = np.hstack((A, b_column))\n",
    "\n",
    "    m, n = A.shape\n",
    "    dependent_rows = [[] for _ in range(m)]  # Initialize with empty lists\n",
    "    has_linear_dependency = np.zeros(m, dtype=bool)\n",
    "    A_bool = A != 0\n",
    "    for i in range(m):\n",
    "        for j in range(i + 1, m):\n",
    "            with np.errstate(divide='ignore', invalid='ignore'):\n",
    "                same_non_zero = np.array_equal(A_bool[i], A_bool[j])\n",
    "                if same_non_zero:\n",
    "                    is_nonzero = (A[j, :] != 0)\n",
    "                    div = np.where(is_nonzero, A[i, :] / A[j, :], np.inf)\n",
    "                    div_filtered = div[np.isfinite(div)]\n",
    "\n",
    "                    if len(div_filtered) > 0:\n",
    "                        # Choose an element with a real value for comparison\n",
    "                        div_with_value = div_filtered[0]\n",
    "                        # Check if the differences are within the tolerance\n",
    "                        close_enough = np.all(np.abs(div_filtered - div_with_value) < feasibility_tolerance)\n",
    "                        if close_enough:\n",
    "                            has_linear_dependency[i] = True\n",
    "                            has_linear_dependency[j] = True\n",
    "                            dependent_rows[i].append(j)\n",
    "                            dependent_rows[j].append(i)\n",
    "\n",
    "    return dependent_rows, has_linear_dependency\n"
   ]
  },
  {
   "cell_type": "code",
   "execution_count": 27,
   "metadata": {},
   "outputs": [
    {
     "name": "stdout",
     "output_type": "stream",
     "text": [
      "Reduced Row-Echelon Form:\n",
      " [[ 1.00000000e+00  0.00000000e+00 -1.00000000e+00]\n",
      " [ 0.00000000e+00  1.00000000e+00  2.00000000e+00]\n",
      " [ 0.00000000e+00  0.00000000e+00  9.99311744e-13]]\n",
      "Linearly Dependent Rows: [2]\n"
     ]
    }
   ],
   "source": [
    "import numpy as np\n",
    "\n",
    "def gauss_jordan_elimination_with_pivoting(A, tol=1e-9):\n",
    "    \"\"\"\n",
    "    Performs Gauss-Jordan elimination with partial pivoting on matrix A\n",
    "    to identify linearly dependent constraints.\n",
    "\n",
    "    Parameters:\n",
    "    A (numpy.ndarray): The input matrix (m x n).\n",
    "    tol (float): Tolerance for detecting negligible elements.\n",
    "\n",
    "    Returns:\n",
    "    numpy.ndarray: The matrix in reduced row-echelon form.\n",
    "    list: Indices of linearly dependent rows.\n",
    "    \"\"\"\n",
    "    A = A.astype(float)  # Ensure the matrix is of type float for division\n",
    "    m, n = A.shape\n",
    "    pivot_row = 0\n",
    "    pivot_cols = []\n",
    "    dependent_rows = []\n",
    "    \n",
    "    for pivot_col in range(n):\n",
    "        # Partial pivoting: Find the row with the maximum element in the current column\n",
    "        max_row = np.argmax(np.abs(A[pivot_row:, pivot_col])) + pivot_row\n",
    "        max_elem = np.abs(A[max_row, pivot_col])\n",
    "        if max_elem < tol:\n",
    "            # If the maximum element is negligible, skip this column\n",
    "            continue\n",
    "        # Swap the current row with the row having the maximum element\n",
    "        if max_row != pivot_row:\n",
    "            A[[pivot_row, max_row]] = A[[max_row, pivot_row]]\n",
    "        # Normalize the pivot row\n",
    "        A[pivot_row] = A[pivot_row] / A[pivot_row, pivot_col]\n",
    "        # Eliminate the entries in the pivot column for all other rows\n",
    "        for r in range(m):\n",
    "            if r != pivot_row:\n",
    "                A[r] = A[r] - A[r, pivot_col] * A[pivot_row]\n",
    "        pivot_cols.append(pivot_col)\n",
    "        pivot_row += 1\n",
    "        if pivot_row == m:\n",
    "            break\n",
    "    # Identify dependent rows (rows that are all zeros after elimination)\n",
    "    for i in range(pivot_row, m):\n",
    "        if np.all(np.abs(A[i]) < tol):\n",
    "            dependent_rows.append(i)\n",
    "    return A, dependent_rows\n",
    "\n",
    "# Example usage:\n",
    "if __name__ == \"__main__\":\n",
    "    # Define a matrix with linearly dependent rows\n",
    "    A = np.array([\n",
    "        [1, 2, 3],\n",
    "        [4, 5, 6.000000000001],  # This row is a multiple of the first row\n",
    "        [7, 8, 9]\n",
    "    ])\n",
    "    rref_matrix, dependent_rows = gauss_jordan_elimination_with_pivoting(A)\n",
    "    print(\"Reduced Row-Echelon Form:\\n\", rref_matrix)\n",
    "    print(\"Linearly Dependent Rows:\", dependent_rows)\n"
   ]
  },
  {
   "cell_type": "code",
   "execution_count": 20,
   "metadata": {},
   "outputs": [
    {
     "data": {
      "text/plain": [
       "([[1], [0], [], []], array([ True,  True, False, False]))"
      ]
     },
     "execution_count": 20,
     "metadata": {},
     "output_type": "execute_result"
    }
   ],
   "source": [
    "linear_dependency(A, [2, 4, 6.00001, 10])"
   ]
  }
 ],
 "metadata": {
  "kernelspec": {
   "display_name": "ioptimization",
   "language": "python",
   "name": "python3"
  },
  "language_info": {
   "codemirror_mode": {
    "name": "ipython",
    "version": 3
   },
   "file_extension": ".py",
   "mimetype": "text/x-python",
   "name": "python",
   "nbconvert_exporter": "python",
   "pygments_lexer": "ipython3",
   "version": "3.8.19"
  },
  "orig_nbformat": 4
 },
 "nbformat": 4,
 "nbformat_minor": 2
}
